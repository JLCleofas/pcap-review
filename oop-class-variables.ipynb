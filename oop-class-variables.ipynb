{
 "cells": [
  {
   "cell_type": "code",
   "execution_count": null,
   "id": "aee66a0d",
   "metadata": {},
   "outputs": [
    {
     "name": "stdout",
     "output_type": "stream",
     "text": [
      "3\n",
      "3\n",
      "3\n"
     ]
    }
   ],
   "source": [
    "class Dog():\n",
    "    # class variable\n",
    "    counter = 0\n",
    "    def __init__(self, name, age):\n",
    "        self.__name = name\n",
    "        self.age = age\n",
    "        Dog.counter += 1\n",
    "\n",
    "my_pet = Dog('Teddy', 2)\n",
    "kates_pet = Dog('Foxy', 5)\n",
    "adams_pet = Dog('Luna', 1)\n",
    "\n",
    "print(my_pet.counter)\n",
    "print(kates_pet.counter)\n",
    "print(adams_pet.counter)"
   ]
  },
  {
   "cell_type": "code",
   "execution_count": 3,
   "id": "2185a463",
   "metadata": {},
   "outputs": [
    {
     "data": {
      "text/plain": [
       "{'_Dog__name': 'Teddy', 'age': 2}"
      ]
     },
     "execution_count": 3,
     "metadata": {},
     "output_type": "execute_result"
    }
   ],
   "source": [
    "# the class variable is not shown in the __dict__ method\n",
    "my_pet.__dict__"
   ]
  },
  {
   "cell_type": "code",
   "execution_count": 4,
   "id": "299e1980",
   "metadata": {},
   "outputs": [
    {
     "name": "stdout",
     "output_type": "stream",
     "text": [
      "3\n"
     ]
    }
   ],
   "source": [
    "# you can call the class variable using the class name\n",
    "print(Dog.counter)"
   ]
  },
  {
   "cell_type": "code",
   "execution_count": null,
   "id": "dce643a9",
   "metadata": {},
   "outputs": [],
   "source": [
    "class Dog():\n",
    "    # making the class variable private\n",
    "    __counter = 0\n",
    "    def __init__(self, name, age):\n",
    "        self.__name = name\n",
    "        self.age = age\n",
    "        Dog.__counter += 1"
   ]
  },
  {
   "cell_type": "code",
   "execution_count": 9,
   "id": "986a55b4",
   "metadata": {},
   "outputs": [
    {
     "name": "stdout",
     "output_type": "stream",
     "text": [
      "0\n"
     ]
    }
   ],
   "source": [
    "# private class variables will still be mangled\n",
    "print(Dog._Dog__counter)"
   ]
  },
  {
   "cell_type": "code",
   "execution_count": 10,
   "id": "abd182da",
   "metadata": {},
   "outputs": [
    {
     "name": "stdout",
     "output_type": "stream",
     "text": [
      "{'__module__': '__main__', '__firstlineno__': 1, '_Dog__counter': 0, '__init__': <function Dog.__init__ at 0x000001836219B1A0>, '__static_attributes__': ('__name', 'age'), '__dict__': <attribute '__dict__' of 'Dog' objects>, '__weakref__': <attribute '__weakref__' of 'Dog' objects>, '__doc__': None}\n"
     ]
    }
   ],
   "source": [
    "print(Dog.__dict__)"
   ]
  },
  {
   "cell_type": "code",
   "execution_count": 19,
   "id": "0627d280",
   "metadata": {},
   "outputs": [
    {
     "name": "stdout",
     "output_type": "stream",
     "text": [
      "My pet has no name\n",
      "There is no counter!\n"
     ]
    }
   ],
   "source": [
    "class Dog():\n",
    "    __counter = 0\n",
    "    def __init__(self, name, age):\n",
    "        # the name property is private\n",
    "        self.__name = name\n",
    "        self.age = age\n",
    "        Dog.__counter += 1\n",
    "\n",
    "my_pet = Dog('Tom', 5)\n",
    "# My pet has no name\n",
    "if hasattr(my_pet, 'name'):\n",
    "    print(f'My pet is called {my_pet.name}')\n",
    "else:\n",
    "    print(f'My pet has no name')\n",
    "\n",
    "# also works with the class variable\n",
    "if hasattr(Dog, 'counter'):\n",
    "    print(f'There is a counter!')\n",
    "else:\n",
    "    print(f'There is no counter!')"
   ]
  },
  {
   "cell_type": "code",
   "execution_count": null,
   "id": "a56b6cd1",
   "metadata": {},
   "outputs": [],
   "source": []
  }
 ],
 "metadata": {
  "kernelspec": {
   "display_name": "Python 3",
   "language": "python",
   "name": "python3"
  },
  "language_info": {
   "codemirror_mode": {
    "name": "ipython",
    "version": 3
   },
   "file_extension": ".py",
   "mimetype": "text/x-python",
   "name": "python",
   "nbconvert_exporter": "python",
   "pygments_lexer": "ipython3",
   "version": "3.13.7"
  }
 },
 "nbformat": 4,
 "nbformat_minor": 5
}
