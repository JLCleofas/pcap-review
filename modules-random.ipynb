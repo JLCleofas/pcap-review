{
 "cells": [
  {
   "cell_type": "code",
   "execution_count": 2,
   "id": "8f246831",
   "metadata": {},
   "outputs": [
    {
     "name": "stdout",
     "output_type": "stream",
     "text": [
      "0.9511767636131796\n",
      "0.03998433257443168\n",
      "0.9511261299250734\n"
     ]
    }
   ],
   "source": [
    "import random\n",
    "\n",
    "print(random.random())\n",
    "print(random.random())\n",
    "print(random.random())"
   ]
  },
  {
   "cell_type": "code",
   "execution_count": 4,
   "id": "99b45841",
   "metadata": {},
   "outputs": [
    {
     "name": "stdout",
     "output_type": "stream",
     "text": [
      "0.8444218515250481\n",
      "0.7579544029403025\n",
      "0.420571580830845\n"
     ]
    }
   ],
   "source": [
    "import random\n",
    "\n",
    "random.seed(0)\n",
    "print(random.random())\n",
    "print(random.random())\n",
    "print(random.random())"
   ]
  },
  {
   "cell_type": "code",
   "execution_count": 8,
   "id": "7ded91c7",
   "metadata": {},
   "outputs": [
    {
     "name": "stdout",
     "output_type": "stream",
     "text": [
      "7\n",
      "Mary\n"
     ]
    }
   ],
   "source": [
    "numbers = [1, 2, 3, 4, 5, 6, 7, 8, 9, 10]\n",
    "names = ['Alan', 'Kate', 'Mary', 'Kate', 'Jo', 'John']\n",
    "\n",
    "print(random.choice(numbers))\n",
    "print(random.choice(names))"
   ]
  },
  {
   "cell_type": "code",
   "execution_count": 9,
   "id": "51b77242",
   "metadata": {},
   "outputs": [
    {
     "data": {
      "text/plain": [
       "'w'"
      ]
     },
     "execution_count": 9,
     "metadata": {},
     "output_type": "execute_result"
    }
   ],
   "source": [
    "random.choice('CanYouFeelThePowerOfPython')"
   ]
  },
  {
   "cell_type": "code",
   "execution_count": null,
   "id": "c94ecc45",
   "metadata": {},
   "outputs": [
    {
     "name": "stdout",
     "output_type": "stream",
     "text": [
      "6\n",
      "10\n",
      "4\n",
      "9\n",
      "3\n",
      "5\n",
      "3\n",
      "2\n",
      "10\n",
      "5\n"
     ]
    }
   ],
   "source": [
    "# with duplicate\n",
    "numbers = [1, 2, 3, 4, 5, 6, 7, 8, 9, 10]\n",
    "\n",
    "for i in range(10):\n",
    "    print(random.choice(numbers))"
   ]
  },
  {
   "cell_type": "code",
   "execution_count": 12,
   "id": "875bb24b",
   "metadata": {},
   "outputs": [
    {
     "data": {
      "text/plain": [
       "['Jo', 'John', 'Kate']"
      ]
     },
     "execution_count": 12,
     "metadata": {},
     "output_type": "execute_result"
    }
   ],
   "source": [
    "# without duplicates\n",
    "names = ['Alan', 'Kate', 'Mary', 'Kate', 'Jo', 'John']\n",
    "\n",
    "random.sample(names, 3)"
   ]
  },
  {
   "cell_type": "code",
   "execution_count": 13,
   "id": "9b3db0f3",
   "metadata": {},
   "outputs": [
    {
     "ename": "ValueError",
     "evalue": "Sample larger than population or is negative",
     "output_type": "error",
     "traceback": [
      "\u001b[31m---------------------------------------------------------------------------\u001b[39m",
      "\u001b[31mValueError\u001b[39m                                Traceback (most recent call last)",
      "\u001b[36mCell\u001b[39m\u001b[36m \u001b[39m\u001b[32mIn[13]\u001b[39m\u001b[32m, line 4\u001b[39m\n\u001b[32m      1\u001b[39m \u001b[38;5;66;03m# value error\u001b[39;00m\n\u001b[32m      2\u001b[39m names = [\u001b[33m'\u001b[39m\u001b[33mAlan\u001b[39m\u001b[33m'\u001b[39m, \u001b[33m'\u001b[39m\u001b[33mKate\u001b[39m\u001b[33m'\u001b[39m, \u001b[33m'\u001b[39m\u001b[33mMary\u001b[39m\u001b[33m'\u001b[39m, \u001b[33m'\u001b[39m\u001b[33mKate\u001b[39m\u001b[33m'\u001b[39m, \u001b[33m'\u001b[39m\u001b[33mJo\u001b[39m\u001b[33m'\u001b[39m, \u001b[33m'\u001b[39m\u001b[33mJohn\u001b[39m\u001b[33m'\u001b[39m]\n\u001b[32m----> \u001b[39m\u001b[32m4\u001b[39m \u001b[43mrandom\u001b[49m\u001b[43m.\u001b[49m\u001b[43msample\u001b[49m\u001b[43m(\u001b[49m\u001b[43mnames\u001b[49m\u001b[43m,\u001b[49m\u001b[43m \u001b[49m\u001b[32;43m7\u001b[39;49m\u001b[43m)\u001b[49m\n",
      "\u001b[36mFile \u001b[39m\u001b[32mc:\\Users\\Louie\\AppData\\Local\\Programs\\Python\\Python313\\Lib\\random.py:434\u001b[39m, in \u001b[36mRandom.sample\u001b[39m\u001b[34m(self, population, k, counts)\u001b[39m\n\u001b[32m    432\u001b[39m randbelow = \u001b[38;5;28mself\u001b[39m._randbelow\n\u001b[32m    433\u001b[39m \u001b[38;5;28;01mif\u001b[39;00m \u001b[38;5;129;01mnot\u001b[39;00m \u001b[32m0\u001b[39m <= k <= n:\n\u001b[32m--> \u001b[39m\u001b[32m434\u001b[39m     \u001b[38;5;28;01mraise\u001b[39;00m \u001b[38;5;167;01mValueError\u001b[39;00m(\u001b[33m\"\u001b[39m\u001b[33mSample larger than population or is negative\u001b[39m\u001b[33m\"\u001b[39m)\n\u001b[32m    435\u001b[39m result = [\u001b[38;5;28;01mNone\u001b[39;00m] * k\n\u001b[32m    436\u001b[39m setsize = \u001b[32m21\u001b[39m        \u001b[38;5;66;03m# size of a small set minus size of an empty list\u001b[39;00m\n",
      "\u001b[31mValueError\u001b[39m: Sample larger than population or is negative"
     ]
    }
   ],
   "source": [
    "# value error\n",
    "names = ['Alan', 'Kate', 'Mary', 'Kate', 'Jo', 'John']\n",
    "\n",
    "random.sample(names, 7)"
   ]
  },
  {
   "cell_type": "code",
   "execution_count": 21,
   "id": "99acb402",
   "metadata": {},
   "outputs": [],
   "source": [
    "import random\n",
    "def generate_tickets(ticket_count, max_number):\n",
    "    list = [x for x in random.sample([i for i in range(max_number)], ticket_count)]\n",
    "    tuple = (list, random.choice(list))\n",
    "    return tuple"
   ]
  },
  {
   "cell_type": "code",
   "execution_count": 22,
   "id": "3636ef52",
   "metadata": {},
   "outputs": [
    {
     "name": "stdout",
     "output_type": "stream",
     "text": [
      "([1, 9, 5, 3, 4], 1)\n"
     ]
    }
   ],
   "source": [
    "print(generate_tickets(5, 10))"
   ]
  },
  {
   "cell_type": "code",
   "execution_count": null,
   "id": "885c3666",
   "metadata": {},
   "outputs": [],
   "source": [
    "# solution from udemy\n",
    "import random\n",
    " \n",
    "def generate_tickets(ticket_count, max_number):\n",
    "    list_to_return = random.sample(range(0, max_number), ticket_count)\n",
    "    return (list_to_return, random.sample(list_to_return, 1)[0])"
   ]
  },
  {
   "cell_type": "code",
   "execution_count": 24,
   "id": "5f088e2d",
   "metadata": {},
   "outputs": [
    {
     "name": "stdout",
     "output_type": "stream",
     "text": [
      "([5, 6, 9, 4, 7], 6)\n"
     ]
    }
   ],
   "source": [
    "print(generate_tickets(5, 10))"
   ]
  },
  {
   "cell_type": "code",
   "execution_count": 2,
   "id": "c746322b",
   "metadata": {},
   "outputs": [
    {
     "name": "stdout",
     "output_type": "stream",
     "text": [
      "48\n",
      "53\n",
      "12\n"
     ]
    }
   ],
   "source": [
    "import random\n",
    "\n",
    "print(random.randrange(100))\n",
    "print(random.randrange(0,100))\n",
    "print(random.randrange(0,100,1))"
   ]
  },
  {
   "cell_type": "code",
   "execution_count": 3,
   "id": "2451438d",
   "metadata": {},
   "outputs": [
    {
     "name": "stdout",
     "output_type": "stream",
     "text": [
      "69\n",
      "35\n",
      "98\n"
     ]
    }
   ],
   "source": [
    "print(random.randrange(100))\n",
    "print(random.randrange(0,100))\n",
    "print(random.randrange(0,100,1))"
   ]
  },
  {
   "cell_type": "code",
   "execution_count": null,
   "id": "5f7c3265",
   "metadata": {},
   "outputs": [],
   "source": []
  }
 ],
 "metadata": {
  "kernelspec": {
   "display_name": "Python 3",
   "language": "python",
   "name": "python3"
  },
  "language_info": {
   "codemirror_mode": {
    "name": "ipython",
    "version": 3
   },
   "file_extension": ".py",
   "mimetype": "text/x-python",
   "name": "python",
   "nbconvert_exporter": "python",
   "pygments_lexer": "ipython3",
   "version": "3.13.7"
  }
 },
 "nbformat": 4,
 "nbformat_minor": 5
}
