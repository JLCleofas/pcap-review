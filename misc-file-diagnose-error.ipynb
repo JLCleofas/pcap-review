{
 "cells": [
  {
   "cell_type": "code",
   "execution_count": 3,
   "id": "4828b488",
   "metadata": {},
   "outputs": [
    {
     "name": "stdout",
     "output_type": "stream",
     "text": [
      "An error occurred: [Errno 2] No such file or directory: 'nonexistent.txt'\n"
     ]
    }
   ],
   "source": [
    "try:\n",
    "    stream = open('nonexistent.txt')\n",
    "    stream.close()\n",
    "except Exception as e:\n",
    "    print(f'An error occurred: {e}')\n",
    "    \n"
   ]
  },
  {
   "cell_type": "code",
   "execution_count": 4,
   "id": "5e504766",
   "metadata": {},
   "outputs": [
    {
     "name": "stdout",
     "output_type": "stream",
     "text": [
      "2\n"
     ]
    }
   ],
   "source": [
    "try:\n",
    "    stream = open('nonexistent.txt')\n",
    "    stream.close()\n",
    "except Exception as e:\n",
    "    print(e.errno)"
   ]
  },
  {
   "cell_type": "code",
   "execution_count": 5,
   "id": "11461c4d",
   "metadata": {},
   "outputs": [
    {
     "name": "stdout",
     "output_type": "stream",
     "text": [
      "No such file or directory\n"
     ]
    }
   ],
   "source": [
    "from os import strerror\n",
    "\n",
    "try:\n",
    "    stream = open('nonexistent.txt')\n",
    "    stream.close()\n",
    "except Exception as e:\n",
    "    print(strerror(e.errno))"
   ]
  },
  {
   "cell_type": "code",
   "execution_count": null,
   "id": "6e1d6701",
   "metadata": {},
   "outputs": [],
   "source": []
  }
 ],
 "metadata": {
  "kernelspec": {
   "display_name": "Python 3",
   "language": "python",
   "name": "python3"
  },
  "language_info": {
   "codemirror_mode": {
    "name": "ipython",
    "version": 3
   },
   "file_extension": ".py",
   "mimetype": "text/x-python",
   "name": "python",
   "nbconvert_exporter": "python",
   "pygments_lexer": "ipython3",
   "version": "3.13.3"
  }
 },
 "nbformat": 4,
 "nbformat_minor": 5
}
