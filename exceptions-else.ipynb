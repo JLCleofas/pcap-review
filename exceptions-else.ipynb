{
 "cells": [
  {
   "cell_type": "code",
   "execution_count": 2,
   "id": "6faeb531",
   "metadata": {},
   "outputs": [
    {
     "name": "stdout",
     "output_type": "stream",
     "text": [
      "Something went wrong\n"
     ]
    }
   ],
   "source": [
    "try:\n",
    "    value = int(input('Enter na int: '))\n",
    "    print(1/value)\n",
    "except: \n",
    "    print('Something went wrong')\n",
    "else:\n",
    "    print('Everything is perfect')"
   ]
  },
  {
   "cell_type": "code",
   "execution_count": 3,
   "id": "ec05e844",
   "metadata": {},
   "outputs": [
    {
     "name": "stdout",
     "output_type": "stream",
     "text": [
      "1.0\n",
      "Everything is perfect\n"
     ]
    }
   ],
   "source": [
    "try:\n",
    "    value = int(input('Enter na int: '))\n",
    "    print(1/value)\n",
    "except: \n",
    "    print('Something went wrong')\n",
    "else:\n",
    "    print('Everything is perfect')"
   ]
  },
  {
   "cell_type": "code",
   "execution_count": null,
   "id": "13ad408a",
   "metadata": {},
   "outputs": [],
   "source": []
  }
 ],
 "metadata": {
  "kernelspec": {
   "display_name": "Python 3",
   "language": "python",
   "name": "python3"
  },
  "language_info": {
   "codemirror_mode": {
    "name": "ipython",
    "version": 3
   },
   "file_extension": ".py",
   "mimetype": "text/x-python",
   "name": "python",
   "nbconvert_exporter": "python",
   "pygments_lexer": "ipython3",
   "version": "3.13.7"
  }
 },
 "nbformat": 4,
 "nbformat_minor": 5
}
