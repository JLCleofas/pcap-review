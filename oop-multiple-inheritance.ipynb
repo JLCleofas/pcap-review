{
 "cells": [
  {
   "cell_type": "code",
   "execution_count": 1,
   "id": "ee305105",
   "metadata": {},
   "outputs": [],
   "source": [
    "class Vehicle():\n",
    "    def go(self):\n",
    "        print('Going!')\n",
    "\n",
    "class Flyable():\n",
    "    def fly(self):\n",
    "        print('Flying!')\n",
    "\n",
    "class Airplane(Vehicle, Flyable):\n",
    "    pass"
   ]
  },
  {
   "cell_type": "code",
   "execution_count": 2,
   "id": "f526999c",
   "metadata": {},
   "outputs": [
    {
     "name": "stdout",
     "output_type": "stream",
     "text": [
      "Going!\n",
      "Flying!\n"
     ]
    }
   ],
   "source": [
    "my_plane = Airplane()\n",
    "my_plane.go()\n",
    "my_plane.fly()"
   ]
  },
  {
   "cell_type": "code",
   "execution_count": 3,
   "id": "461035d3",
   "metadata": {},
   "outputs": [],
   "source": [
    "class Vehicle():\n",
    "    def go(self):\n",
    "        print('Going!')\n",
    "\n",
    "    def introduce(self):\n",
    "        print('I am a Vehicle')\n",
    "\n",
    "class Flyable():\n",
    "    def fly(self):\n",
    "        print('Flying!')\n",
    "\n",
    "    def introduce(self):\n",
    "        print('I am a Flyable')\n",
    "\n",
    "class Airplane(Vehicle, Flyable):\n",
    "    pass"
   ]
  },
  {
   "cell_type": "code",
   "execution_count": 5,
   "id": "bef4d177",
   "metadata": {},
   "outputs": [
    {
     "name": "stdout",
     "output_type": "stream",
     "text": [
      "I am a Vehicle\n"
     ]
    }
   ],
   "source": [
    "my_plane = Airplane()\n",
    "my_plane.introduce()"
   ]
  },
  {
   "cell_type": "code",
   "execution_count": 7,
   "id": "29e90e6e",
   "metadata": {},
   "outputs": [],
   "source": [
    "class Vehicle():\n",
    "    def go(self):\n",
    "        print('Going!')\n",
    "\n",
    "    def introduce(self):\n",
    "        print('I am a Vehicle')\n",
    "\n",
    "class Flyable():\n",
    "    def fly(self):\n",
    "        print('Flying!')\n",
    "\n",
    "    def introduce(self):\n",
    "        print('I am a Flyable')\n",
    "\n",
    "class Airplane(Flyable, Vehicle):\n",
    "    pass"
   ]
  },
  {
   "cell_type": "code",
   "execution_count": 8,
   "id": "a798a468",
   "metadata": {},
   "outputs": [
    {
     "name": "stdout",
     "output_type": "stream",
     "text": [
      "I am a Flyable\n"
     ]
    }
   ],
   "source": [
    "my_plane = Airplane()\n",
    "my_plane.introduce()"
   ]
  },
  {
   "cell_type": "code",
   "execution_count": 9,
   "id": "0ae73fab",
   "metadata": {},
   "outputs": [],
   "source": [
    "class Vehicle():\n",
    "    def go(self):\n",
    "        print('Going!')\n",
    "\n",
    "    def introduce(self):\n",
    "        print('I am a Vehicle')\n",
    "\n",
    "class Flyable():\n",
    "    def fly(self):\n",
    "        print('Flying!')\n",
    "\n",
    "    def introduce(self):\n",
    "        print('I am a Flyable')\n",
    "\n",
    "class Airplane(Flyable, Vehicle):\n",
    "    def introduce(self):\n",
    "        print('I am an Airplane')"
   ]
  },
  {
   "cell_type": "code",
   "execution_count": 10,
   "id": "e48c0215",
   "metadata": {},
   "outputs": [
    {
     "name": "stdout",
     "output_type": "stream",
     "text": [
      "I am an Airplane\n"
     ]
    }
   ],
   "source": [
    "my_plane = Airplane()\n",
    "my_plane.introduce()"
   ]
  },
  {
   "cell_type": "code",
   "execution_count": null,
   "id": "e723c4d6",
   "metadata": {},
   "outputs": [],
   "source": []
  }
 ],
 "metadata": {
  "kernelspec": {
   "display_name": "Python 3",
   "language": "python",
   "name": "python3"
  },
  "language_info": {
   "codemirror_mode": {
    "name": "ipython",
    "version": 3
   },
   "file_extension": ".py",
   "mimetype": "text/x-python",
   "name": "python",
   "nbconvert_exporter": "python",
   "pygments_lexer": "ipython3",
   "version": "3.13.7"
  }
 },
 "nbformat": 4,
 "nbformat_minor": 5
}
