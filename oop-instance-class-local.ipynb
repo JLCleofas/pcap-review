{
 "cells": [
  {
   "cell_type": "code",
   "execution_count": 5,
   "id": "f6ce194f",
   "metadata": {},
   "outputs": [],
   "source": [
    "class House():\n",
    "    counter = 0\n",
    "    def __init__(self, address, area, price):\n",
    "        self.address = address\n",
    "        self.area = area\n",
    "        self.price = price\n",
    "        House.counter += 1\n",
    "\n",
    "        House.quality = 'low'\n",
    "        self.quality = 'medium'\n",
    "        quality = 'high'\n",
    "\n",
    "        print(House.quality, self.quality, quality)\n",
    "    \n",
    "    def present(self):\n",
    "        print(f'The house at {self.address} has an area of {self.area} and costs {self.price}')"
   ]
  },
  {
   "cell_type": "code",
   "execution_count": 6,
   "id": "85e2d879",
   "metadata": {},
   "outputs": [
    {
     "name": "stdout",
     "output_type": "stream",
     "text": [
      "low medium high\n",
      "The house at 12 Lexington St, Soho has an area of 130 and costs 540000\n",
      "1\n"
     ]
    }
   ],
   "source": [
    "soho_house = House('12 Lexington St, Soho', 130, 540000)\n",
    "soho_house.present()\n",
    "print(House.counter)"
   ]
  },
  {
   "cell_type": "code",
   "execution_count": null,
   "id": "71b3f60c",
   "metadata": {},
   "outputs": [
    {
     "name": "stdout",
     "output_type": "stream",
     "text": [
      "medium\n",
      "low\n"
     ]
    }
   ],
   "source": [
    "# you can access the instance variable\n",
    "print(soho_house.quality)\n",
    "# you can also access the class variable\n",
    "print(House.quality)\n",
    "# but you cannot access the local variable because it will be overitten by the instance variable when trying to call"
   ]
  },
  {
   "cell_type": "code",
   "execution_count": null,
   "id": "eef8a417",
   "metadata": {},
   "outputs": [],
   "source": []
  }
 ],
 "metadata": {
  "kernelspec": {
   "display_name": "Python 3",
   "language": "python",
   "name": "python3"
  },
  "language_info": {
   "codemirror_mode": {
    "name": "ipython",
    "version": 3
   },
   "file_extension": ".py",
   "mimetype": "text/x-python",
   "name": "python",
   "nbconvert_exporter": "python",
   "pygments_lexer": "ipython3",
   "version": "3.13.7"
  }
 },
 "nbformat": 4,
 "nbformat_minor": 5
}
