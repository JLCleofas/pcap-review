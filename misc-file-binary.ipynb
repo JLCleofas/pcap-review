{
 "cells": [
  {
   "cell_type": "code",
   "execution_count": 1,
   "id": "4382c3a0",
   "metadata": {},
   "outputs": [],
   "source": [
    "data = bytearray(100)\n",
    "data[0] = 100"
   ]
  },
  {
   "cell_type": "code",
   "execution_count": 2,
   "id": "e0f17be8",
   "metadata": {},
   "outputs": [
    {
     "ename": "ValueError",
     "evalue": "byte must be in range(0, 256)",
     "output_type": "error",
     "traceback": [
      "\u001b[31m---------------------------------------------------------------------------\u001b[39m",
      "\u001b[31mValueError\u001b[39m                                Traceback (most recent call last)",
      "\u001b[36mCell\u001b[39m\u001b[36m \u001b[39m\u001b[32mIn[2]\u001b[39m\u001b[32m, line 2\u001b[39m\n\u001b[32m      1\u001b[39m data = \u001b[38;5;28mbytearray\u001b[39m(\u001b[32m100\u001b[39m)\n\u001b[32m----> \u001b[39m\u001b[32m2\u001b[39m \u001b[43mdata\u001b[49m\u001b[43m[\u001b[49m\u001b[32;43m0\u001b[39;49m\u001b[43m]\u001b[49m = \u001b[32m270\u001b[39m\n",
      "\u001b[31mValueError\u001b[39m: byte must be in range(0, 256)"
     ]
    }
   ],
   "source": [
    "data = bytearray(100)\n",
    "data[0] = 270"
   ]
  },
  {
   "cell_type": "code",
   "execution_count": 3,
   "id": "fe10dd55",
   "metadata": {},
   "outputs": [],
   "source": [
    "data = bytearray(100)\n",
    "data[0] = 100\n",
    "data[1] = 120\n",
    "\n",
    "try:\n",
    "    stream = open('file.bin', 'wb')\n",
    "    stream.write(data)\n",
    "except Exception as e:\n",
    "    print(f'An error occurred {e}')\n",
    "finally:\n",
    "    stream.close()"
   ]
  },
  {
   "cell_type": "code",
   "execution_count": 8,
   "id": "fd32176f",
   "metadata": {},
   "outputs": [
    {
     "name": "stdout",
     "output_type": "stream",
     "text": [
      "b'dx\\x00\\x00\\x00\\x00\\x00\\x00\\x00\\x00\\x00\\x00\\x00\\x00\\x00\\x00\\x00\\x00\\x00\\x00\\x00\\x00\\x00\\x00\\x00\\x00\\x00\\x00\\x00\\x00\\x00\\x00\\x00\\x00\\x00\\x00\\x00\\x00\\x00\\x00\\x00\\x00\\x00\\x00\\x00\\x00\\x00\\x00\\x00\\x00\\x00\\x00\\x00\\x00\\x00\\x00\\x00\\x00\\x00\\x00\\x00\\x00\\x00\\x00\\x00\\x00\\x00\\x00\\x00\\x00\\x00\\x00\\x00\\x00\\x00\\x00\\x00\\x00\\x00\\x00\\x00\\x00\\x00\\x00\\x00\\x00\\x00\\x00\\x00\\x00\\x00\\x00\\x00\\x00\\x00\\x00\\x00\\x00\\x00\\x00'\n"
     ]
    }
   ],
   "source": [
    "try:\n",
    "    bf = open('file.bin', 'rb')\n",
    "    byte_array = bf.read()\n",
    "except Exception as e:\n",
    "    print(f'An error occurred: {e}')\n",
    "finally:\n",
    "    bf.close()\n",
    "\n",
    "print(byte_array)"
   ]
  },
  {
   "cell_type": "code",
   "execution_count": 12,
   "id": "c60d5950",
   "metadata": {},
   "outputs": [
    {
     "name": "stdout",
     "output_type": "stream",
     "text": [
      "0x640x780x00x00x00x00x00x00x00x00x00x00x00x00x00x00x00x00x00x00x00x00x00x00x00x00x00x00x00x00x00x00x00x00x00x00x00x00x00x00x00x00x00x00x00x00x00x00x00x00x00x00x00x00x00x00x00x00x00x00x00x00x00x00x00x00x00x00x00x00x00x00x00x00x00x00x00x00x00x00x00x00x00x00x00x00x00x00x00x00x00x00x00x00x00x00x00x00x00x0"
     ]
    }
   ],
   "source": [
    "for byte in byte_array:\n",
    "    print(hex(byte), end='')"
   ]
  },
  {
   "cell_type": "code",
   "execution_count": 14,
   "id": "994d61bb",
   "metadata": {},
   "outputs": [
    {
     "name": "stdout",
     "output_type": "stream",
     "text": [
      "100 120 0 0 0 0 0 0 0 0 0 0 0 0 0 0 0 0 0 0 0 0 0 0 0 0 0 0 0 0 0 0 0 0 0 0 0 0 0 0 0 0 0 0 0 0 0 0 0 0 0 0 0 0 0 0 0 0 0 0 0 0 0 0 0 0 0 0 0 0 0 0 0 0 0 0 0 0 0 0 0 0 0 0 0 0 0 0 0 0 0 0 0 0 0 0 0 0 0 0 "
     ]
    }
   ],
   "source": [
    "for byte in byte_array:\n",
    "    print(int(byte), end=' ')"
   ]
  },
  {
   "cell_type": "code",
   "execution_count": 15,
   "id": "6e864cd2",
   "metadata": {},
   "outputs": [
    {
     "name": "stdout",
     "output_type": "stream",
     "text": [
      "100 120 0 0 0 0 0 0 0 0 "
     ]
    }
   ],
   "source": [
    "try:\n",
    "    bf = open('file.bin', 'rb')\n",
    "    byte_array = bf.read(10)\n",
    "except Exception as e:\n",
    "    print(f'An error occurred: {e}')\n",
    "finally:\n",
    "    bf.close()\n",
    "    \n",
    "for byte in byte_array:\n",
    "    print(int(byte), end=' ')"
   ]
  },
  {
   "cell_type": "code",
   "execution_count": null,
   "id": "1d574a0d",
   "metadata": {},
   "outputs": [],
   "source": []
  }
 ],
 "metadata": {
  "kernelspec": {
   "display_name": "Python 3",
   "language": "python",
   "name": "python3"
  },
  "language_info": {
   "codemirror_mode": {
    "name": "ipython",
    "version": 3
   },
   "file_extension": ".py",
   "mimetype": "text/x-python",
   "name": "python",
   "nbconvert_exporter": "python",
   "pygments_lexer": "ipython3",
   "version": "3.13.3"
  }
 },
 "nbformat": 4,
 "nbformat_minor": 5
}
