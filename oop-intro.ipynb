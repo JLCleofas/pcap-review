{
 "cells": [
  {
   "cell_type": "code",
   "execution_count": null,
   "id": "772de8e3",
   "metadata": {},
   "outputs": [
    {
     "name": "stdout",
     "output_type": "stream",
     "text": [
      "The are is 30\n"
     ]
    }
   ],
   "source": [
    "# procedural approach\n",
    "def calculate_area(width, height):\n",
    "    return width * height\n",
    "\n",
    "width = int(input('What is the width? '))\n",
    "height = int(input('What is the height? '))\n",
    "\n",
    "area = calculate_area(width, height)\n",
    "\n",
    "print(f'The area is {area}')"
   ]
  },
  {
   "cell_type": "code",
   "execution_count": 2,
   "id": "0e672f35",
   "metadata": {},
   "outputs": [
    {
     "name": "stdout",
     "output_type": "stream",
     "text": [
      "The area is 30\n",
      "Your age multiplied by height is 72\n"
     ]
    }
   ],
   "source": [
    "# procedural approach\n",
    "def calculate_area(width, height):\n",
    "    return width * height\n",
    "\n",
    "width = int(input('What is the width? '))\n",
    "height = int(input('What is the height? '))\n",
    "\n",
    "area = calculate_area(width, height)\n",
    "\n",
    "print(f'The area is {area}')\n",
    "\n",
    "age = int(input('What is your age? '))\n",
    "strange_operation = calculate_area(age, height)\n",
    "\n",
    "print(f'Your age multiplied by height is {strange_operation}')"
   ]
  },
  {
   "cell_type": "code",
   "execution_count": 3,
   "id": "ebacb666",
   "metadata": {},
   "outputs": [
    {
     "name": "stdout",
     "output_type": "stream",
     "text": [
      "The area is 30\n"
     ]
    }
   ],
   "source": [
    "# object approach\n",
    "class Rectangle:\n",
    "    def __init__(self, width, height):\n",
    "        self.width = width\n",
    "        self.height = height\n",
    "\n",
    "    def get_area(self):\n",
    "        return self.width * self.height\n",
    "    \n",
    "a = int(input('What is the width? '))\n",
    "b = int(input('What is the height? '))\n",
    "\n",
    "rectangle = Rectangle(a, b)\n",
    "\n",
    "print(f'The area is {rectangle.get_area()}')"
   ]
  },
  {
   "cell_type": "code",
   "execution_count": null,
   "id": "f98aff47",
   "metadata": {},
   "outputs": [],
   "source": []
  }
 ],
 "metadata": {
  "kernelspec": {
   "display_name": "Python 3",
   "language": "python",
   "name": "python3"
  },
  "language_info": {
   "codemirror_mode": {
    "name": "ipython",
    "version": 3
   },
   "file_extension": ".py",
   "mimetype": "text/x-python",
   "name": "python",
   "nbconvert_exporter": "python",
   "pygments_lexer": "ipython3",
   "version": "3.13.7"
  }
 },
 "nbformat": 4,
 "nbformat_minor": 5
}
