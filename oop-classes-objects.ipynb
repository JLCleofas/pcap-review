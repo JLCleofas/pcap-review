{
 "cells": [
  {
   "cell_type": "code",
   "execution_count": 1,
   "id": "12612512",
   "metadata": {},
   "outputs": [
    {
     "name": "stdout",
     "output_type": "stream",
     "text": [
      "Hello, I am sampleNickname and I live in sampleCity\n"
     ]
    }
   ],
   "source": [
    "class User:\n",
    "    def __init__(self):\n",
    "        self.nickname = 'sampleNickname'\n",
    "        self.city = 'sampleCity'\n",
    "\n",
    "    def introduce(self):\n",
    "        print(f'Hello, I am {self.nickname} and I live in {self.city}')\n",
    "\n",
    "sample_user = User()\n",
    "\n",
    "sample_user.introduce()"
   ]
  },
  {
   "cell_type": "code",
   "execution_count": 2,
   "id": "83a7d005",
   "metadata": {},
   "outputs": [
    {
     "name": "stdout",
     "output_type": "stream",
     "text": [
      "sampleNickname\n"
     ]
    }
   ],
   "source": [
    "print(sample_user.nickname)"
   ]
  },
  {
   "cell_type": "code",
   "execution_count": 4,
   "id": "fc443b03",
   "metadata": {},
   "outputs": [],
   "source": [
    "class User:\n",
    "    def __init__(self, nickname, city):\n",
    "        self.nickname = nickname\n",
    "        self.city = city\n",
    "\n",
    "    def introduce(self):\n",
    "        print(f'Hello, I am {self.nickname} and I live in {self.city}')"
   ]
  },
  {
   "cell_type": "code",
   "execution_count": 5,
   "id": "778b2749",
   "metadata": {},
   "outputs": [],
   "source": [
    "first_user = User('DarkKnight', 'Arkham')\n",
    "second_user = User('Geralt', 'Rivia')\n",
    "third_user = User('Louie', 'Manila')"
   ]
  },
  {
   "cell_type": "code",
   "execution_count": 6,
   "id": "91477af9",
   "metadata": {},
   "outputs": [
    {
     "name": "stdout",
     "output_type": "stream",
     "text": [
      "Hello, I am DarkKnight and I live in Arkham\n",
      "Hello, I am Geralt and I live in Rivia\n",
      "Hello, I am Louie and I live in Manila\n"
     ]
    }
   ],
   "source": [
    "first_user.introduce()\n",
    "second_user.introduce()\n",
    "third_user.introduce()"
   ]
  },
  {
   "cell_type": "code",
   "execution_count": null,
   "id": "f624e4f5",
   "metadata": {},
   "outputs": [],
   "source": []
  }
 ],
 "metadata": {
  "kernelspec": {
   "display_name": "Python 3",
   "language": "python",
   "name": "python3"
  },
  "language_info": {
   "codemirror_mode": {
    "name": "ipython",
    "version": 3
   },
   "file_extension": ".py",
   "mimetype": "text/x-python",
   "name": "python",
   "nbconvert_exporter": "python",
   "pygments_lexer": "ipython3",
   "version": "3.13.7"
  }
 },
 "nbformat": 4,
 "nbformat_minor": 5
}
