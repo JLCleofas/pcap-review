{
 "cells": [
  {
   "cell_type": "code",
   "execution_count": 1,
   "id": "994f1be7",
   "metadata": {},
   "outputs": [],
   "source": [
    "from random import shuffle\n",
    " \n",
    "class Card:\n",
    "\tdef __init__(self, suit, value):\n",
    "\t\tself.suit = suit\n",
    "\t\tself.value = value\n",
    " \n",
    "\tdef present(self):\n",
    "\t\treturn self.value + ' of ' + self.suit \n",
    " \n",
    "class Deck:\n",
    "\tdef __init__(self):\n",
    "\t    suits = ['hearts', 'diamonds', 'clubs', 'spades']\n",
    "\t    values = ['Ace', '2', '3', '4', '5', '6', '7', '8', '9', '10', 'Jack', 'Queen', 'King']\n",
    "\t    self.cards = [Card(suit, value) for suit in suits for value in values]\n",
    " \n",
    "\tdef shuffle(self):\n",
    "\t\tshuffle(self.cards)\n",
    " \n",
    "\tdef deal(self):\n",
    "\t    if len(self.cards) == 0:\n",
    "\t        return None\n",
    "\t    return self.cards.pop()\n",
    " \n",
    "\tdef count_remaining(self):\n",
    "\t    return len(self.cards)\n",
    "\t\n",
    "\tdef get_remaining(self):\n",
    "\t    return [x.present() for x in self.cards]\n"
   ]
  },
  {
   "cell_type": "code",
   "execution_count": null,
   "id": "14ecad4b",
   "metadata": {},
   "outputs": [],
   "source": []
  }
 ],
 "metadata": {
  "kernelspec": {
   "display_name": "Python 3",
   "language": "python",
   "name": "python3"
  },
  "language_info": {
   "codemirror_mode": {
    "name": "ipython",
    "version": 3
   },
   "file_extension": ".py",
   "mimetype": "text/x-python",
   "name": "python",
   "nbconvert_exporter": "python",
   "pygments_lexer": "ipython3",
   "version": "3.13.7"
  }
 },
 "nbformat": 4,
 "nbformat_minor": 5
}
