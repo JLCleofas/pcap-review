{
 "cells": [
  {
   "cell_type": "code",
   "execution_count": 1,
   "id": "13807521",
   "metadata": {},
   "outputs": [],
   "source": [
    "class Vehicle():\n",
    "   pass\n",
    "        \n",
    "class Rideable():\n",
    "   pass\n",
    "      \n",
    "class PetrolVehicle(Vehicle):\n",
    "   pass\n",
    "        \n",
    "class Car(PetrolVehicle, Rideable):\n",
    "   pass"
   ]
  },
  {
   "cell_type": "code",
   "execution_count": 2,
   "id": "5631e45d",
   "metadata": {},
   "outputs": [
    {
     "name": "stdout",
     "output_type": "stream",
     "text": [
      "(<class 'object'>,)\n",
      "(<class 'object'>,)\n"
     ]
    }
   ],
   "source": [
    "# bases for Vehicle and Rideable\n",
    "print(Vehicle.__bases__)\n",
    "print(Rideable.__bases__)"
   ]
  },
  {
   "cell_type": "code",
   "execution_count": 3,
   "id": "93376929",
   "metadata": {},
   "outputs": [
    {
     "name": "stdout",
     "output_type": "stream",
     "text": [
      "(<class '__main__.Vehicle'>,)\n"
     ]
    }
   ],
   "source": [
    "# bases for PetorlVehicle\n",
    "print(PetrolVehicle.__bases__)"
   ]
  },
  {
   "cell_type": "code",
   "execution_count": 4,
   "id": "33057fd4",
   "metadata": {},
   "outputs": [
    {
     "name": "stdout",
     "output_type": "stream",
     "text": [
      "(<class '__main__.PetrolVehicle'>, <class '__main__.Rideable'>)\n"
     ]
    }
   ],
   "source": [
    "# bases for Car\n",
    "print(Car.__bases__)"
   ]
  },
  {
   "cell_type": "code",
   "execution_count": null,
   "id": "6733bef6",
   "metadata": {},
   "outputs": [],
   "source": []
  }
 ],
 "metadata": {
  "kernelspec": {
   "display_name": "Python 3",
   "language": "python",
   "name": "python3"
  },
  "language_info": {
   "codemirror_mode": {
    "name": "ipython",
    "version": 3
   },
   "file_extension": ".py",
   "mimetype": "text/x-python",
   "name": "python",
   "nbconvert_exporter": "python",
   "pygments_lexer": "ipython3",
   "version": "3.13.7"
  }
 },
 "nbformat": 4,
 "nbformat_minor": 5
}
