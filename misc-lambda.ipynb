{
 "cells": [
  {
   "cell_type": "code",
   "execution_count": 1,
   "id": "88224ba6",
   "metadata": {},
   "outputs": [
    {
     "ename": "_IncompleteInputError",
     "evalue": "incomplete input (729751151.py, line 3)",
     "output_type": "error",
     "traceback": [
      "  \u001b[36mCell\u001b[39m\u001b[36m \u001b[39m\u001b[32mIn[1]\u001b[39m\u001b[32m, line 3\u001b[39m\n\u001b[31m    \u001b[39m\u001b[31m# instruction\u001b[39m\n                 ^\n\u001b[31m_IncompleteInputError\u001b[39m\u001b[31m:\u001b[39m incomplete input\n"
     ]
    }
   ],
   "source": [
    "def function_name(parameter1, parameter2):\n",
    "    # instruction\n",
    "    # instruction"
   ]
  },
  {
   "cell_type": "code",
   "execution_count": null,
   "id": "257f156d",
   "metadata": {},
   "outputs": [],
   "source": [
    "lambda parameter1, parameter2: #instruction"
   ]
  },
  {
   "cell_type": "code",
   "execution_count": 2,
   "id": "835c576b",
   "metadata": {},
   "outputs": [],
   "source": [
    "def sum(a, b):\n",
    "    return a + b"
   ]
  },
  {
   "cell_type": "code",
   "execution_count": 3,
   "id": "696b0afc",
   "metadata": {},
   "outputs": [
    {
     "data": {
      "text/plain": [
       "<function __main__.<lambda>(a, b)>"
      ]
     },
     "execution_count": 3,
     "metadata": {},
     "output_type": "execute_result"
    }
   ],
   "source": [
    "lambda a, b: a + b"
   ]
  },
  {
   "cell_type": "code",
   "execution_count": 4,
   "id": "240269fb",
   "metadata": {},
   "outputs": [
    {
     "data": {
      "text/plain": [
       "<function __main__.<lambda>(x, y)>"
      ]
     },
     "execution_count": 4,
     "metadata": {},
     "output_type": "execute_result"
    }
   ],
   "source": [
    "lambda x, y: x + y"
   ]
  },
  {
   "cell_type": "code",
   "execution_count": 5,
   "id": "cb9b64c7",
   "metadata": {},
   "outputs": [
    {
     "data": {
      "text/plain": [
       "8"
      ]
     },
     "execution_count": 5,
     "metadata": {},
     "output_type": "execute_result"
    }
   ],
   "source": [
    "sum(5, 3)"
   ]
  },
  {
   "cell_type": "code",
   "execution_count": 6,
   "id": "9bf3ea18",
   "metadata": {},
   "outputs": [],
   "source": [
    "another_sum = lambda a, b: a + b"
   ]
  },
  {
   "cell_type": "code",
   "execution_count": 7,
   "id": "7acec902",
   "metadata": {},
   "outputs": [
    {
     "data": {
      "text/plain": [
       "8"
      ]
     },
     "execution_count": 7,
     "metadata": {},
     "output_type": "execute_result"
    }
   ],
   "source": [
    "another_sum(5, 3)"
   ]
  },
  {
   "cell_type": "code",
   "execution_count": 9,
   "id": "579cf953",
   "metadata": {},
   "outputs": [],
   "source": [
    "def apply_func(elements, func):\n",
    "    for element in elements:\n",
    "        print(func(element))"
   ]
  },
  {
   "cell_type": "code",
   "execution_count": 10,
   "id": "b30234ea",
   "metadata": {},
   "outputs": [
    {
     "name": "stdout",
     "output_type": "stream",
     "text": [
      "1\n",
      "4\n",
      "9\n",
      "16\n",
      "25\n"
     ]
    }
   ],
   "source": [
    "my_func = lambda x: x * x\n",
    "apply_func([1, 2, 3, 4, 5], my_func)"
   ]
  },
  {
   "cell_type": "code",
   "execution_count": 11,
   "id": "4f1f2b8b",
   "metadata": {},
   "outputs": [
    {
     "name": "stdout",
     "output_type": "stream",
     "text": [
      "1.0\n",
      "0.5\n",
      "0.3333333333333333\n",
      "0.25\n",
      "0.2\n"
     ]
    }
   ],
   "source": [
    "my_func = lambda x: 1/x\n",
    "apply_func([1, 2, 3, 4, 5], my_func)"
   ]
  },
  {
   "cell_type": "code",
   "execution_count": null,
   "id": "33c050f3",
   "metadata": {},
   "outputs": [
    {
     "name": "stdout",
     "output_type": "stream",
     "text": [
      "0\n",
      "0\n",
      "0\n",
      "0\n",
      "0\n"
     ]
    }
   ],
   "source": [
    "my_func = lambda x: 0\n",
    "apply_func([1, 2, 3, 4, 5], my_func)"
   ]
  },
  {
   "cell_type": "code",
   "execution_count": 13,
   "id": "a5f984c4",
   "metadata": {},
   "outputs": [
    {
     "name": "stdout",
     "output_type": "stream",
     "text": [
      "1\n",
      "4\n",
      "9\n",
      "16\n",
      "25\n"
     ]
    }
   ],
   "source": [
    "apply_func([1, 2, 3, 4, 5], lambda x: x * x)"
   ]
  }
 ],
 "metadata": {
  "kernelspec": {
   "display_name": "Python 3",
   "language": "python",
   "name": "python3"
  },
  "language_info": {
   "codemirror_mode": {
    "name": "ipython",
    "version": 3
   },
   "file_extension": ".py",
   "mimetype": "text/x-python",
   "name": "python",
   "nbconvert_exporter": "python",
   "pygments_lexer": "ipython3",
   "version": "3.13.7"
  }
 },
 "nbformat": 4,
 "nbformat_minor": 5
}
