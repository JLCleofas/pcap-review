{
 "cells": [
  {
   "cell_type": "code",
   "execution_count": 1,
   "id": "8a5160b9",
   "metadata": {},
   "outputs": [
    {
     "name": "stdout",
     "output_type": "stream",
     "text": [
      "Hi, I am Alexander\n",
      "Sorry, my name is different...\n",
      "{'first_name': 'Alexander', 'last_name': 'Smith'}\n",
      "{'__module__': '__main__', '__firstlineno__': 1, '__init__': <function Doctor.__init__ at 0x00000172B7FCAC00>, '_Doctor__format_names': <function Doctor.__format_names at 0x00000172B7FCB6A0>, 'introduce': <function Doctor.introduce at 0x00000172B7FCB740>, 'compare_name': <function Doctor.compare_name at 0x00000172B7FCB7E0>, 'get_first_last_name_together': <function Doctor.get_first_last_name_together at 0x00000172B7FCB880>, '__static_attributes__': ('first_name', 'last_name'), '__dict__': <attribute '__dict__' of 'Doctor' objects>, '__weakref__': <attribute '__weakref__' of 'Doctor' objects>, '__doc__': None}\n"
     ]
    }
   ],
   "source": [
    "class Doctor():\n",
    "    def __init__(self, first_name = 'John', last_name = 'Smith'):\n",
    "        self.first_name = first_name\n",
    "        self.last_name = last_name\n",
    "        self.__format_names()\n",
    "\n",
    "    def __format_names(self):\n",
    "        self.first_name = self.first_name.title()\n",
    "        self.last_name = self.last_name.title()\n",
    "\n",
    "    def introduce(self):\n",
    "        print(f'Hi, I am {self.first_name}')\n",
    "\n",
    "    def compare_name(self, name_to_compare):\n",
    "        if self.first_name == name_to_compare:\n",
    "            print('We have the same name!')\n",
    "        else:\n",
    "            print('Sorry, my name is different...')\n",
    "            \n",
    "    def get_first_last_name_together(self):\n",
    "        return f'{self.first_name} {self.last_name}'\n",
    "    \n",
    "doc_alex = Doctor('AleXander', 'SMith')\n",
    "doc_alex.introduce()\n",
    "doc_alex.compare_name('John')\n",
    "print(doc_alex.__dict__)\n",
    "print(Doctor.__dict__)"
   ]
  },
  {
   "cell_type": "code",
   "execution_count": 2,
   "id": "32ece4f8",
   "metadata": {},
   "outputs": [
    {
     "name": "stdout",
     "output_type": "stream",
     "text": [
      "100\n"
     ]
    }
   ],
   "source": [
    "class Car():\n",
    "  def __init__(self='default value', speed=100):\n",
    "    self.speed = speed\n",
    " \n",
    "my_toyota = Car()\n",
    "print(my_toyota.speed)   # default value for self ignored"
   ]
  },
  {
   "cell_type": "code",
   "execution_count": null,
   "id": "90f42e2f",
   "metadata": {},
   "outputs": [],
   "source": []
  }
 ],
 "metadata": {
  "kernelspec": {
   "display_name": "Python 3",
   "language": "python",
   "name": "python3"
  },
  "language_info": {
   "codemirror_mode": {
    "name": "ipython",
    "version": 3
   },
   "file_extension": ".py",
   "mimetype": "text/x-python",
   "name": "python",
   "nbconvert_exporter": "python",
   "pygments_lexer": "ipython3",
   "version": "3.13.7"
  }
 },
 "nbformat": 4,
 "nbformat_minor": 5
}
