{
 "cells": [
  {
   "cell_type": "code",
   "execution_count": 2,
   "id": "e129ee0d",
   "metadata": {},
   "outputs": [
    {
     "name": "stdout",
     "output_type": "stream",
     "text": [
      "Hello\n"
     ]
    }
   ],
   "source": [
    "def greet(text):\n",
    "\n",
    "    def print_greet():\n",
    "        print(text)\n",
    "\n",
    "    return print_greet\n",
    "\n",
    "say_hello = greet('Hello')\n",
    "say_hello()"
   ]
  },
  {
   "cell_type": "code",
   "execution_count": 3,
   "id": "2afc298c",
   "metadata": {},
   "outputs": [
    {
     "name": "stdout",
     "output_type": "stream",
     "text": [
      "50\n",
      "100\n",
      "120\n",
      "240\n"
     ]
    }
   ],
   "source": [
    "def make_multiply_closure(x):\n",
    "\n",
    "    def multiply(y):\n",
    "        return x * y\n",
    "    \n",
    "    return multiply\n",
    "\n",
    "multiply_5 = make_multiply_closure(5)\n",
    "multiply_12 = make_multiply_closure(12)\n",
    "\n",
    "print(multiply_5(10))\n",
    "print(multiply_5(20))\n",
    "\n",
    "print(multiply_12(10))\n",
    "print(multiply_12(20))"
   ]
  },
  {
   "cell_type": "code",
   "execution_count": null,
   "id": "a84058bf",
   "metadata": {},
   "outputs": [],
   "source": []
  }
 ],
 "metadata": {
  "kernelspec": {
   "display_name": "Python 3",
   "language": "python",
   "name": "python3"
  },
  "language_info": {
   "codemirror_mode": {
    "name": "ipython",
    "version": 3
   },
   "file_extension": ".py",
   "mimetype": "text/x-python",
   "name": "python",
   "nbconvert_exporter": "python",
   "pygments_lexer": "ipython3",
   "version": "3.13.3"
  }
 },
 "nbformat": 4,
 "nbformat_minor": 5
}
