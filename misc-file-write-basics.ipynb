{
 "cells": [
  {
   "cell_type": "code",
   "execution_count": 1,
   "id": "cc227009",
   "metadata": {},
   "outputs": [],
   "source": [
    "try:\n",
    "    stream = open('newfile.txt', 'w')\n",
    "    stream.write('This is the first message!\\n')\n",
    "    stream.write('This is the second message!')\n",
    "except Exception as e:\n",
    "    print(f'An error occurred: {e}')\n",
    "finally:\n",
    "    stream.close()"
   ]
  },
  {
   "cell_type": "code",
   "execution_count": 2,
   "id": "7cddcb0d",
   "metadata": {},
   "outputs": [],
   "source": [
    "try:\n",
    "    stream = open('newfile.txt', 'w')\n",
    "    stream.write('This is a brand-new message\\n')\n",
    "except Exception as e:\n",
    "    print(f'An error occurred: {e}')\n",
    "finally:\n",
    "    stream.close()"
   ]
  },
  {
   "cell_type": "code",
   "execution_count": null,
   "id": "cbd69221",
   "metadata": {},
   "outputs": [],
   "source": []
  }
 ],
 "metadata": {
  "kernelspec": {
   "display_name": "Python 3",
   "language": "python",
   "name": "python3"
  },
  "language_info": {
   "codemirror_mode": {
    "name": "ipython",
    "version": 3
   },
   "file_extension": ".py",
   "mimetype": "text/x-python",
   "name": "python",
   "nbconvert_exporter": "python",
   "pygments_lexer": "ipython3",
   "version": "3.13.3"
  }
 },
 "nbformat": 4,
 "nbformat_minor": 5
}
