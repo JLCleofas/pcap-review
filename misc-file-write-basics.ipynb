{
 "cells": [
  {
   "cell_type": "code",
   "execution_count": 1,
   "id": "cc227009",
   "metadata": {},
   "outputs": [],
   "source": [
    "try:\n",
    "    stream = open('newfile.txt', 'w')\n",
    "    stream.write('This is the first message!\\n')\n",
    "    stream.write('This is the second message!')\n",
    "except Exception as e:\n",
    "    print(f'An error occurred: {e}')\n",
    "finally:\n",
    "    stream.close()"
   ]
  },
  {
   "cell_type": "code",
   "execution_count": 2,
   "id": "7cddcb0d",
   "metadata": {},
   "outputs": [],
   "source": [
    "try:\n",
    "    stream = open('newfile.txt', 'w')\n",
    "    stream.write('This is a brand-new message\\n')\n",
    "except Exception as e:\n",
    "    print(f'An error occurred: {e}')\n",
    "finally:\n",
    "    stream.close()"
   ]
  },
  {
   "cell_type": "code",
   "execution_count": 1,
   "id": "cbd69221",
   "metadata": {},
   "outputs": [],
   "source": [
    "sent_message = 'Hey there! This is a secret message.'\n",
    "\n",
    "with open('sent_message.txt', 'w') as file:\n",
    "  file.write(sent_message)"
   ]
  },
  {
   "cell_type": "code",
   "execution_count": 2,
   "id": "0c8547ce",
   "metadata": {},
   "outputs": [],
   "source": [
    "with open('sent_message.txt', 'r+') as file:\n",
    "    # Read the sent message from the file\n",
    "    original_message = file.read()\n",
    "        \n",
    "    # Move the cursor to the beginning of the file\n",
    "    file.seek(0)\n",
    "\n",
    "    # Modify the message to simulate unsending\n",
    "    unsent_message = 'This message has been unsent.'\n",
    "    file.write(unsent_message)"
   ]
  },
  {
   "cell_type": "code",
   "execution_count": 3,
   "id": "d91353df",
   "metadata": {},
   "outputs": [],
   "source": [
    "with open('sent_message.txt', 'r+') as file:\n",
    "    file.truncate(len(unsent_message))"
   ]
  },
  {
   "cell_type": "code",
   "execution_count": null,
   "id": "6ec87919",
   "metadata": {},
   "outputs": [],
   "source": []
  }
 ],
 "metadata": {
  "kernelspec": {
   "display_name": "Python 3",
   "language": "python",
   "name": "python3"
  },
  "language_info": {
   "codemirror_mode": {
    "name": "ipython",
    "version": 3
   },
   "file_extension": ".py",
   "mimetype": "text/x-python",
   "name": "python",
   "nbconvert_exporter": "python",
   "pygments_lexer": "ipython3",
   "version": "3.13.7"
  }
 },
 "nbformat": 4,
 "nbformat_minor": 5
}
