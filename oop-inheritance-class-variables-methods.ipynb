{
 "cells": [
  {
   "cell_type": "code",
   "execution_count": 3,
   "id": "5fc52eab",
   "metadata": {},
   "outputs": [],
   "source": [
    "class Vehicle:\n",
    "    class_message = 'This message is from the Vehicle class!'\n",
    "    def __init__(self, speed):\n",
    "        self.speed = speed\n",
    "\n",
    "class LandVehicle(Vehicle):\n",
    "    def __init__(self, speed, wheel_count):\n",
    "        super().__init__(speed) # same with: Vehicle.__init__(self, speed)\n",
    "        self.wheel_count = wheel_count\n",
    "        print(super().class_message)\n",
    "\n",
    "    def speed_up(self):\n",
    "        self.speed += 5\n",
    "\n",
    "class Car(LandVehicle):\n",
    "    def super_speed(self):\n",
    "        print('Super speed activated!')\n",
    "        super().speed_up()\n",
    "        super().speed_up()\n",
    "        super().speed_up()"
   ]
  },
  {
   "cell_type": "code",
   "execution_count": 4,
   "id": "3db12b11",
   "metadata": {},
   "outputs": [
    {
     "name": "stdout",
     "output_type": "stream",
     "text": [
      "This message is from the Vehicle class!\n",
      "{'speed': 10, 'wheel_count': 4}\n",
      "Super speed activated!\n",
      "{'speed': 25, 'wheel_count': 4}\n",
      "{'speed': 30, 'wheel_count': 4}\n"
     ]
    }
   ],
   "source": [
    "my_fast_car = Car(10, 4)\n",
    "print(my_fast_car.__dict__)\n",
    "my_fast_car.super_speed()\n",
    "print(my_fast_car.__dict__)\n",
    "my_fast_car.speed_up()\n",
    "print(my_fast_car.__dict__)"
   ]
  },
  {
   "cell_type": "code",
   "execution_count": null,
   "id": "03c8ed63",
   "metadata": {},
   "outputs": [],
   "source": []
  }
 ],
 "metadata": {
  "kernelspec": {
   "display_name": "Python 3",
   "language": "python",
   "name": "python3"
  },
  "language_info": {
   "codemirror_mode": {
    "name": "ipython",
    "version": 3
   },
   "file_extension": ".py",
   "mimetype": "text/x-python",
   "name": "python",
   "nbconvert_exporter": "python",
   "pygments_lexer": "ipython3",
   "version": "3.13.7"
  }
 },
 "nbformat": 4,
 "nbformat_minor": 5
}
