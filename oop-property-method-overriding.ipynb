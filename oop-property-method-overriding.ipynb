{
 "cells": [
  {
   "cell_type": "code",
   "execution_count": 1,
   "id": "68767974",
   "metadata": {},
   "outputs": [],
   "source": [
    "class Animal():\n",
    "    def __init__(self):\n",
    "        self.species = 'general'\n",
    "\n",
    "    def produce_sound(self):\n",
    "        print('General animal sound')\n",
    "\n",
    "class Dog(Animal):\n",
    "    pass"
   ]
  },
  {
   "cell_type": "code",
   "execution_count": 3,
   "id": "0eae485c",
   "metadata": {},
   "outputs": [
    {
     "name": "stdout",
     "output_type": "stream",
     "text": [
      "general\n",
      "General animal sound\n"
     ]
    }
   ],
   "source": [
    "my_pet = Dog()\n",
    "print(my_pet.species)\n",
    "my_pet.produce_sound()"
   ]
  },
  {
   "cell_type": "code",
   "execution_count": 4,
   "id": "c3336673",
   "metadata": {},
   "outputs": [],
   "source": [
    "class Animal():\n",
    "    def __init__(self):\n",
    "        self.species = 'general'\n",
    "\n",
    "    def produce_sound(self):\n",
    "        print('General animal sound')\n",
    "\n",
    "class Dog(Animal):\n",
    "    def __init__(self):\n",
    "        self.species = 'Canis familiaris'\n",
    "\n",
    "    def produce_sound(self):\n",
    "        print('Woof, woof!')"
   ]
  },
  {
   "cell_type": "code",
   "execution_count": 5,
   "id": "34dd696a",
   "metadata": {},
   "outputs": [
    {
     "name": "stdout",
     "output_type": "stream",
     "text": [
      "Canis familiaris\n",
      "Woof, woof!\n"
     ]
    }
   ],
   "source": [
    "my_pet = Dog()\n",
    "print(my_pet.species)\n",
    "my_pet.produce_sound()"
   ]
  },
  {
   "cell_type": "code",
   "execution_count": 7,
   "id": "a7c2dd3c",
   "metadata": {},
   "outputs": [
    {
     "name": "stdout",
     "output_type": "stream",
     "text": [
      "General animal sound\n",
      "Woof, woof!\n"
     ]
    }
   ],
   "source": [
    "my_first_pet = Animal()\n",
    "my_second_pet = Dog()\n",
    "\n",
    "my_first_pet.produce_sound()\n",
    "my_second_pet.produce_sound()"
   ]
  },
  {
   "cell_type": "code",
   "execution_count": 8,
   "id": "3ea25c21",
   "metadata": {},
   "outputs": [],
   "source": [
    "class Animal():\n",
    "    def __init__(self):\n",
    "        self.species = 'general'\n",
    "\n",
    "    def produce_sound(self):\n",
    "        print('General animal sound')\n",
    "\n",
    "    def present(self):\n",
    "        print('I can do the following sound:')\n",
    "        self.produce_sound()\n",
    "\n",
    "class Dog(Animal):\n",
    "    def __init__(self):\n",
    "        self.species = 'Canis familiaris'\n",
    "\n",
    "    def produce_sound(self):\n",
    "        print('Woof, woof!')"
   ]
  },
  {
   "cell_type": "code",
   "execution_count": 11,
   "id": "4ef6f460",
   "metadata": {},
   "outputs": [
    {
     "name": "stdout",
     "output_type": "stream",
     "text": [
      "I can do the following sound:\n",
      "General animal sound\n",
      "\n",
      "I can do the following sound:\n",
      "Woof, woof!\n"
     ]
    }
   ],
   "source": [
    "my_first_pet = Animal()\n",
    "my_second_pet = Dog()\n",
    "\n",
    "my_first_pet.present()\n",
    "print()\n",
    "my_second_pet.present()"
   ]
  },
  {
   "cell_type": "code",
   "execution_count": null,
   "id": "d2fa5b4d",
   "metadata": {},
   "outputs": [],
   "source": []
  }
 ],
 "metadata": {
  "kernelspec": {
   "display_name": "Python 3",
   "language": "python",
   "name": "python3"
  },
  "language_info": {
   "codemirror_mode": {
    "name": "ipython",
    "version": 3
   },
   "file_extension": ".py",
   "mimetype": "text/x-python",
   "name": "python",
   "nbconvert_exporter": "python",
   "pygments_lexer": "ipython3",
   "version": "3.13.7"
  }
 },
 "nbformat": 4,
 "nbformat_minor": 5
}
