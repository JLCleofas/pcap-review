{
 "cells": [
  {
   "cell_type": "code",
   "execution_count": 1,
   "id": "340504df",
   "metadata": {},
   "outputs": [],
   "source": [
    "import csv\n",
    "\n",
    "# Data to be written to the CSV file\n",
    "data_to_write = [\n",
    "  ['Name', 'Age', 'Grade'],\n",
    "  ['Alice', 25, 'A'],\n",
    "  ['Bob', 22, 'B'],\n",
    "  ['Charlie', 28, 'A+']\n",
    "]\n",
    "\n",
    "# Open the CSV file in 'write' mode\n",
    "with open('output.csv', 'w', newline='') as file:\n",
    "  # Create a CSV writer object\n",
    "  csv_writer = csv.writer(file)\n",
    "\n",
    "  # Write the data to the CSV file\n",
    "  csv_writer.writerows(data_to_write)"
   ]
  },
  {
   "cell_type": "code",
   "execution_count": 3,
   "id": "fa47e991",
   "metadata": {},
   "outputs": [
    {
     "name": "stdout",
     "output_type": "stream",
     "text": [
      "['Name', 'Age', 'Grade']\n",
      "['Alice', '25', 'A']\n",
      "['Bob', '22', 'B']\n",
      "['Charlie', '28', 'A+']\n"
     ]
    }
   ],
   "source": [
    "import csv\n",
    "\n",
    "# Open the CSV file in 'read' mode with UTF-8 encoding\n",
    "with open('output.csv', 'r', encoding='utf8') as file:\n",
    "  # Create a CSV reader object\n",
    "  csv_reader = csv.reader(file)\n",
    "\n",
    "  for row in csv_reader:\n",
    "    print(row)"
   ]
  },
  {
   "cell_type": "code",
   "execution_count": 16,
   "id": "bfeb1d9e",
   "metadata": {},
   "outputs": [],
   "source": [
    "import csv\n",
    "\n",
    "def is_a_number(value):\n",
    "    try:\n",
    "        float(value)\n",
    "        return True\n",
    "    except ValueError:\n",
    "        return False\n",
    "\n",
    "with open('Bestseller - Sheet1.csv', 'r', encoding='utf8') as stream:\n",
    "    csv_reader = csv.reader(stream)\n",
    "    sale_in_mill = 0\n",
    "    for row in csv_reader:\n",
    "        if is_a_number(row[4]):\n",
    "            if float(row[4]) > sale_in_mill:\n",
    "                sale_in_mill = float(row[4])\n",
    "                best_seller = row\n",
    "\n",
    "with open('bestseller_info.csv', 'w', newline='') as stream:\n",
    "    csv_writer = csv.writer(stream)\n",
    "        \n",
    "    csv_writer.writerow(best_seller)"
   ]
  },
  {
   "cell_type": "code",
   "execution_count": null,
   "id": "7bc31bf2",
   "metadata": {},
   "outputs": [
    {
     "name": "stdout",
     "output_type": "stream",
     "text": [
      "Packing list file not found. Creating a new one.\n"
     ]
    }
   ],
   "source": [
    "import csv\n",
    "\n",
    "data = [\n",
    "  ['Item', 'Quantity'],\n",
    "  ['Blender', 2],\n",
    "  ['Posters', 30],\n",
    "  ['Shoes', 2]\n",
    "]\n",
    "\n",
    "try:\n",
    "    stream = open('packing_list.csv', 'r', encoding='utf8')\n",
    "    csv_reader = csv.reader(stream)\n",
    "\n",
    "    for row in csv_reader:\n",
    "        print(row)\n",
    "\n",
    "except FileNotFoundError:\n",
    "    print('Packing list file not found. Creating a new one.')\n",
    "    stream = open('packing_list.csv', 'w', newline='')\n",
    "    csv_writer = csv.writer(stream)\n",
    "\n",
    "    csv_writer.writerows(data)\n",
    "\n",
    "finally:\n",
    "    stream.close()"
   ]
  },
  {
   "cell_type": "code",
   "execution_count": null,
   "id": "8cd116de",
   "metadata": {},
   "outputs": [],
   "source": []
  }
 ],
 "metadata": {
  "kernelspec": {
   "display_name": "Python 3",
   "language": "python",
   "name": "python3"
  },
  "language_info": {
   "codemirror_mode": {
    "name": "ipython",
    "version": 3
   },
   "file_extension": ".py",
   "mimetype": "text/x-python",
   "name": "python",
   "nbconvert_exporter": "python",
   "pygments_lexer": "ipython3",
   "version": "3.13.7"
  }
 },
 "nbformat": 4,
 "nbformat_minor": 5
}
