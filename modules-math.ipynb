{
 "cells": [
  {
   "cell_type": "code",
   "execution_count": null,
   "id": "e5c8d7e2",
   "metadata": {},
   "outputs": [],
   "source": []
  }
 ],
 "metadata": {
  "language_info": {
   "name": "python"
  }
 },
 "nbformat": 4,
 "nbformat_minor": 5
}
