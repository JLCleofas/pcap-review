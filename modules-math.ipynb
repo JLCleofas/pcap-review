{
 "cells": [
  {
   "cell_type": "code",
   "execution_count": 1,
   "id": "e5c8d7e2",
   "metadata": {},
   "outputs": [
    {
     "name": "stdout",
     "output_type": "stream",
     "text": [
      "__doc__\t__loader__\t__name__\t__package__\t__spec__\tacos\tacosh\tasin\tasinh\tatan\tatan2\tatanh\tcbrt\tceil\tcomb\tcopysign\tcos\tcosh\tdegrees\tdist\te\terf\terfc\texp\texp2\texpm1\tfabs\tfactorial\tfloor\tfma\tfmod\tfrexp\tfsum\tgamma\tgcd\thypot\tinf\tisclose\tisfinite\tisinf\tisnan\tisqrt\tlcm\tldexp\tlgamma\tlog\tlog10\tlog1p\tlog2\tmodf\tnan\tnextafter\tperm\tpi\tpow\tprod\tradians\tremainder\tsin\tsinh\tsqrt\tsumprod\ttan\ttanh\ttau\ttrunc\tulp\t"
     ]
    }
   ],
   "source": [
    "import math\n",
    "\n",
    "for name in dir(math):\n",
    "    print(name, end='\\t')"
   ]
  },
  {
   "cell_type": "code",
   "execution_count": 2,
   "id": "e2eb6dcb",
   "metadata": {},
   "outputs": [
    {
     "name": "stdout",
     "output_type": "stream",
     "text": [
      "4\n",
      "3\n",
      "3\n"
     ]
    }
   ],
   "source": [
    "# ceil(), floor(), trunc()\n",
    "print(math.ceil(3.6))\n",
    "print(math.floor(3.6))\n",
    "print(math.trunc(3.6))"
   ]
  },
  {
   "cell_type": "code",
   "execution_count": 3,
   "id": "47ff83d0",
   "metadata": {},
   "outputs": [
    {
     "name": "stdout",
     "output_type": "stream",
     "text": [
      "4\n",
      "4\n",
      "4\n",
      "3\n",
      "-5\n"
     ]
    }
   ],
   "source": [
    "# ceil()\n",
    "print(math.ceil(3.1))\n",
    "print(math.ceil(3.505))\n",
    "print(math.ceil(3.945))\n",
    "print(math.ceil(3.0))\n",
    "print(math.ceil(-5.4))\n"
   ]
  },
  {
   "cell_type": "code",
   "execution_count": 4,
   "id": "b7afe820",
   "metadata": {},
   "outputs": [
    {
     "name": "stdout",
     "output_type": "stream",
     "text": [
      "3\n",
      "3\n",
      "3\n",
      "3\n",
      "-6\n"
     ]
    }
   ],
   "source": [
    "# floor()\n",
    "print(math.floor(3.1))\n",
    "print(math.floor(3.505))\n",
    "print(math.floor(3.945))\n",
    "print(math.floor(3.0))\n",
    "print(math.floor(-5.4))"
   ]
  },
  {
   "cell_type": "code",
   "execution_count": 5,
   "id": "b107bc45",
   "metadata": {},
   "outputs": [
    {
     "name": "stdout",
     "output_type": "stream",
     "text": [
      "3\n",
      "3\n",
      "3\n",
      "3\n",
      "-5\n"
     ]
    }
   ],
   "source": [
    "# trunc()\n",
    "print(math.trunc(3.1))\n",
    "print(math.trunc(3.505))\n",
    "print(math.trunc(3.945))\n",
    "print(math.trunc(3.0))\n",
    "print(math.trunc(-5.4))"
   ]
  },
  {
   "cell_type": "code",
   "execution_count": 7,
   "id": "d4ff5abc",
   "metadata": {},
   "outputs": [
    {
     "name": "stdout",
     "output_type": "stream",
     "text": [
      "6\n",
      "24\n"
     ]
    }
   ],
   "source": [
    "# factorial()\n",
    "print(math.factorial(3))\n",
    "print(math.factorial(4))"
   ]
  },
  {
   "cell_type": "code",
   "execution_count": 9,
   "id": "9a17bc87",
   "metadata": {},
   "outputs": [
    {
     "name": "stdout",
     "output_type": "stream",
     "text": [
      "4.0\n",
      "10.0\n"
     ]
    }
   ],
   "source": [
    "# sqrt()\n",
    "print(math.sqrt(16))\n",
    "print(math.sqrt(100))"
   ]
  },
  {
   "cell_type": "code",
   "execution_count": 10,
   "id": "4f6a5755",
   "metadata": {},
   "outputs": [
    {
     "name": "stdout",
     "output_type": "stream",
     "text": [
      "5.0\n"
     ]
    }
   ],
   "source": [
    "# hypot()\n",
    "print(math.hypot(3, 4))"
   ]
  },
  {
   "cell_type": "code",
   "execution_count": null,
   "id": "a64a00f3",
   "metadata": {},
   "outputs": [],
   "source": []
  }
 ],
 "metadata": {
  "kernelspec": {
   "display_name": "Python 3",
   "language": "python",
   "name": "python3"
  },
  "language_info": {
   "codemirror_mode": {
    "name": "ipython",
    "version": 3
   },
   "file_extension": ".py",
   "mimetype": "text/x-python",
   "name": "python",
   "nbconvert_exporter": "python",
   "pygments_lexer": "ipython3",
   "version": "3.13.7"
  }
 },
 "nbformat": 4,
 "nbformat_minor": 5
}
