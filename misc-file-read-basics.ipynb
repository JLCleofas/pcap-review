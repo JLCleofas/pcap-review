{
 "cells": [
  {
   "cell_type": "code",
   "execution_count": null,
   "id": "b53cef51",
   "metadata": {},
   "outputs": [],
   "source": [
    "try:\n",
    "    stream = open('animals.txt')\n",
    "    # your code goes here\n",
    "except Exception as e:\n",
    "    print(f'An error occured: {e}')\n",
    "finally:\n",
    "    stream.close()"
   ]
  },
  {
   "cell_type": "code",
   "execution_count": 2,
   "id": "d28509b2",
   "metadata": {},
   "outputs": [
    {
     "name": "stdout",
     "output_type": "stream",
     "text": [
      "PIG is a domestic animal.\n",
      "LION is a wild animal.\n",
      "FOX is a wild animal that is sometimes kept as a pet. \n"
     ]
    }
   ],
   "source": [
    "try:\n",
    "    stream = open('animals.txt')\n",
    "    print(stream.read())\n",
    "except Exception as e:\n",
    "    print(f'An error occured: {e}')\n",
    "finally:\n",
    "    stream.close()"
   ]
  },
  {
   "cell_type": "code",
   "execution_count": 3,
   "id": "6c995f0f",
   "metadata": {},
   "outputs": [
    {
     "name": "stdout",
     "output_type": "stream",
     "text": [
      "PIG is a d\n"
     ]
    }
   ],
   "source": [
    "try:\n",
    "    stream = open('animals.txt')\n",
    "    print(stream.read(10))\n",
    "except Exception as e:\n",
    "    print(f'An error occured: {e}')\n",
    "finally:\n",
    "    stream.close()"
   ]
  },
  {
   "cell_type": "code",
   "execution_count": 4,
   "id": "aac06fbb",
   "metadata": {},
   "outputs": [
    {
     "name": "stdout",
     "output_type": "stream",
     "text": [
      "PIG is a d\n",
      "omestic an\n"
     ]
    }
   ],
   "source": [
    "try:\n",
    "    stream = open('animals.txt')\n",
    "    print(stream.read(10))\n",
    "    print(stream.read(10))\n",
    "except Exception as e:\n",
    "    print(f'An error occured: {e}')\n",
    "finally:\n",
    "    stream.close()"
   ]
  },
  {
   "cell_type": "code",
   "execution_count": 5,
   "id": "44292efc",
   "metadata": {},
   "outputs": [
    {
     "name": "stdout",
     "output_type": "stream",
     "text": [
      "PIG is a domestic animal.\n",
      "LION is a wild animal.\n",
      "FOX is a wild animal that is sometimes kept as a pet. \n",
      "\n"
     ]
    }
   ],
   "source": [
    "try:\n",
    "    stream = open('animals.txt')\n",
    "    print(stream.read(10000))\n",
    "    print(stream.read(1))\n",
    "except Exception as e:\n",
    "    print(f'An error occured: {e}')\n",
    "finally:\n",
    "    stream.close()"
   ]
  },
  {
   "cell_type": "code",
   "execution_count": 6,
   "id": "f76d3fd6",
   "metadata": {},
   "outputs": [
    {
     "name": "stdout",
     "output_type": "stream",
     "text": [
      "P-I-G- -i-s- -a- -d-o-m-e-s-t-i-c- -a-n-i-m-a-l-.-\n",
      "-L-I-O-N- -i-s- -a- -w-i-l-d- -a-n-i-m-a-l-.-\n",
      "-F-O-X- -i-s- -a- -w-i-l-d- -a-n-i-m-a-l- -t-h-a-t- -i-s- -s-o-m-e-t-i-m-e-s- -k-e-p-t- -a-s- -a- -p-e-t-.- -"
     ]
    }
   ],
   "source": [
    "try:\n",
    "    stream = open('animals.txt')\n",
    "    character = stream.read(1)\n",
    "    while character != '':\n",
    "        print(character, end='-')\n",
    "        character = stream.read(1)\n",
    "except Exception as e:\n",
    "    print(f'An error occured: {e}')\n",
    "finally:\n",
    "    stream.close()"
   ]
  },
  {
   "cell_type": "code",
   "execution_count": 10,
   "id": "3e327fbc",
   "metadata": {},
   "outputs": [
    {
     "name": "stdout",
     "output_type": "stream",
     "text": [
      "P-I-G- -i-s- -a- -d-o-m-e-s-t-i-c- -a-n-i-m-a-l-.-\n",
      "-L-I-O-N- -i-s- -a- -w-i-l-d- -a-n-i-m-a-l-.-\n",
      "-F-O-X- -i-s- -a- -w-i-l-d- -a-n-i-m-a-l- -t-h-a-t- -i-s- -s-o-m-e-t-i-m-e-s- -k-e-p-t- -a-s- -a- -p-e-t-.- -\n",
      "Number of characters: 103\n"
     ]
    }
   ],
   "source": [
    "try:\n",
    "    stream = open('animals.txt')\n",
    "    counter = 0\n",
    "    character = stream.read(1)\n",
    "    while character != '':\n",
    "        counter += 1\n",
    "        print(character, end='-')\n",
    "        character = stream.read(1)\n",
    "    print(f'\\nNumber of characters: {counter}')\n",
    "except Exception as e:\n",
    "    print(f'An error occured: {e}')\n",
    "finally:\n",
    "    stream.close()"
   ]
  },
  {
   "cell_type": "code",
   "execution_count": 11,
   "id": "ef017fcb",
   "metadata": {},
   "outputs": [
    {
     "name": "stdout",
     "output_type": "stream",
     "text": [
      "PIG is a domestic animal.\n",
      "-LION is a wild animal.\n",
      "-FOX is a wild animal that is sometimes kept as a pet. -\n",
      "Number of lines: 3\n"
     ]
    }
   ],
   "source": [
    "try:\n",
    "    stream = open('animals.txt')\n",
    "    counter = 0\n",
    "    line = stream.readline()\n",
    "    while line != '':\n",
    "        counter += 1\n",
    "        print(line, end='-')\n",
    "        line = stream.readline()\n",
    "    print(f'\\nNumber of lines: {counter}')\n",
    "except Exception as e:\n",
    "    print(f'An error occured: {e}')\n",
    "finally:\n",
    "    stream.close()"
   ]
  },
  {
   "cell_type": "code",
   "execution_count": 15,
   "id": "286f778f",
   "metadata": {},
   "outputs": [
    {
     "name": "stdout",
     "output_type": "stream",
     "text": [
      "Content of the lines var: ['PIG is a domestic animal.\\n', 'LION is a wild animal.\\n', 'FOX is a wild animal that is sometimes kept as a pet. ']\n",
      "\n",
      "Number of lines: 3\n",
      "PIG is a domestic animal.\n",
      "LION is a wild animal.\n",
      "FOX is a wild animal that is sometimes kept as a pet. "
     ]
    }
   ],
   "source": [
    "try:\n",
    "    stream = open('animals.txt')\n",
    "    lines = stream.readlines()\n",
    "    print(f'Content of the lines var: {lines}')\n",
    "    print(f'\\nNumber of lines: {len(lines)}')\n",
    "    for line in lines:\n",
    "        print(line, end='')\n",
    "except Exception as e:\n",
    "    print(f'An error occured: {e}')\n",
    "finally:\n",
    "    stream.close()"
   ]
  },
  {
   "cell_type": "code",
   "execution_count": 16,
   "id": "e78f7503",
   "metadata": {},
   "outputs": [
    {
     "name": "stdout",
     "output_type": "stream",
     "text": [
      "PIG is a domestic animal.\n",
      "\n",
      "LION is a wild animal.\n",
      "\n",
      "FOX is a wild animal that is sometimes kept as a pet. \n"
     ]
    }
   ],
   "source": [
    "try:\n",
    "    stream = open('animals.txt')\n",
    "    lines = stream.readlines(2)\n",
    "    while len(lines) != 0:\n",
    "        for line in lines:\n",
    "            print(line, sep='')\n",
    "        lines = stream.readlines(2)\n",
    "except Exception as e:\n",
    "    print(f'An error occured: {e}')\n",
    "finally:\n",
    "    stream.close()"
   ]
  },
  {
   "cell_type": "code",
   "execution_count": 18,
   "id": "0cc5b69b",
   "metadata": {},
   "outputs": [
    {
     "name": "stdout",
     "output_type": "stream",
     "text": [
      "PIG is a domestic animal.\n",
      "LION is a wild animal.\n",
      "FOX is a wild animal that is sometimes kept as a pet. "
     ]
    }
   ],
   "source": [
    "try:\n",
    "    stream = open('animals.txt')\n",
    "    for line in stream:\n",
    "        print(line, end='')\n",
    "except Exception as e:\n",
    "    print(f'An error occured: {e}')\n",
    "finally:\n",
    "    stream.close()"
   ]
  },
  {
   "cell_type": "code",
   "execution_count": null,
   "id": "412d426e",
   "metadata": {},
   "outputs": [],
   "source": []
  }
 ],
 "metadata": {
  "kernelspec": {
   "display_name": "Python 3",
   "language": "python",
   "name": "python3"
  },
  "language_info": {
   "codemirror_mode": {
    "name": "ipython",
    "version": 3
   },
   "file_extension": ".py",
   "mimetype": "text/x-python",
   "name": "python",
   "nbconvert_exporter": "python",
   "pygments_lexer": "ipython3",
   "version": "3.13.3"
  }
 },
 "nbformat": 4,
 "nbformat_minor": 5
}
