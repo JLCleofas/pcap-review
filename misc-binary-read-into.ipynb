{
 "cells": [
  {
   "cell_type": "code",
   "execution_count": 6,
   "id": "7fe7458e",
   "metadata": {},
   "outputs": [],
   "source": [
    "try:\n",
    "\tbf = open('file.bin', 'rb')\n",
    "\tnewly_created = bf.read()\n",
    "except Exception as e:\n",
    "\tprint('An error occured:', e)\n",
    "finally:\n",
    "    bf.close()"
   ]
  },
  {
   "cell_type": "code",
   "execution_count": 8,
   "id": "8c2a9fb4",
   "metadata": {},
   "outputs": [],
   "source": [
    "try:\n",
    "\tbf = open('file.bin', 'rb')\n",
    "\tbyte_object = bf.read()\n",
    "\tbytearray_object = bytearray(bf.read())\n",
    "except Exception as e:\n",
    "\tprint('An error occured:', e)\n",
    "finally:\n",
    "    bf.close()"
   ]
  },
  {
   "cell_type": "code",
   "execution_count": 10,
   "id": "f6bbf197",
   "metadata": {},
   "outputs": [
    {
     "name": "stdout",
     "output_type": "stream",
     "text": [
      "<class 'bytes'>\n",
      "<class 'bytearray'>\n"
     ]
    }
   ],
   "source": [
    "print(type(byte_object))\n",
    "print(type(bytearray_object))"
   ]
  },
  {
   "cell_type": "code",
   "execution_count": 13,
   "id": "8c436221",
   "metadata": {},
   "outputs": [
    {
     "name": "stdout",
     "output_type": "stream",
     "text": [
      "10\n"
     ]
    }
   ],
   "source": [
    "data = bytearray(10)\n",
    "try:\n",
    "    bf = open('file.bin', 'rb')\n",
    "    bf.readinto(data)\n",
    "    print(bf.readinto(data))\n",
    "except Exception as e:\n",
    "    print('An error occured:', e)\n",
    "finally:\n",
    "    bf.close()"
   ]
  },
  {
   "cell_type": "code",
   "execution_count": null,
   "id": "d34f2f4c",
   "metadata": {},
   "outputs": [],
   "source": []
  }
 ],
 "metadata": {
  "kernelspec": {
   "display_name": "Python 3",
   "language": "python",
   "name": "python3"
  },
  "language_info": {
   "codemirror_mode": {
    "name": "ipython",
    "version": 3
   },
   "file_extension": ".py",
   "mimetype": "text/x-python",
   "name": "python",
   "nbconvert_exporter": "python",
   "pygments_lexer": "ipython3",
   "version": "3.13.3"
  }
 },
 "nbformat": 4,
 "nbformat_minor": 5
}
