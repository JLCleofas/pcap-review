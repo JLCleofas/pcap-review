{
 "cells": [
  {
   "cell_type": "code",
   "execution_count": 14,
   "id": "1c4c6b40",
   "metadata": {},
   "outputs": [],
   "source": [
    "class Car():\n",
    "    def __init__(self, model, color, initial_speed = 0):\n",
    "        self.model = model\n",
    "        self.color = color\n",
    "        if initial_speed < 0:\n",
    "            # __ makes the speed property private\n",
    "            self.__speed = 0\n",
    "        else:\n",
    "            self.__speed = initial_speed\n",
    "\n",
    "    def speed_up(self):\n",
    "        self.__speed += 5\n",
    "\n",
    "    def slow_down(self):\n",
    "        if self.__speed < 5:\n",
    "            self.__speed = 0\n",
    "        else:\n",
    "            self.__speed -= 5\n",
    "\n",
    "    def show_speed(self):\n",
    "        print(f'Current speed: {self.__speed}')"
   ]
  },
  {
   "cell_type": "code",
   "execution_count": 13,
   "id": "7c8c9a10",
   "metadata": {},
   "outputs": [
    {
     "name": "stdout",
     "output_type": "stream",
     "text": [
      "Current speed: 0\n"
     ]
    }
   ],
   "source": [
    "my_lovely_car = Car('Honda', 'Red', -50)\n",
    "my_lovely_car.__speed = -10\n",
    "my_lovely_car.show_speed()"
   ]
  },
  {
   "cell_type": "code",
   "execution_count": null,
   "id": "615841d8",
   "metadata": {},
   "outputs": [],
   "source": []
  }
 ],
 "metadata": {
  "kernelspec": {
   "display_name": "Python 3",
   "language": "python",
   "name": "python3"
  },
  "language_info": {
   "codemirror_mode": {
    "name": "ipython",
    "version": 3
   },
   "file_extension": ".py",
   "mimetype": "text/x-python",
   "name": "python",
   "nbconvert_exporter": "python",
   "pygments_lexer": "ipython3",
   "version": "3.13.7"
  }
 },
 "nbformat": 4,
 "nbformat_minor": 5
}
