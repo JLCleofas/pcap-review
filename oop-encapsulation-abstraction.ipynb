{
 "cells": [
  {
   "cell_type": "code",
   "execution_count": 14,
   "id": "1c4c6b40",
   "metadata": {},
   "outputs": [],
   "source": [
    "class Car():\n",
    "    def __init__(self, model, color, initial_speed = 0):\n",
    "        self.model = model\n",
    "        self.color = color\n",
    "        if initial_speed < 0:\n",
    "            # __ makes the speed property private\n",
    "            self.__speed = 0\n",
    "        else:\n",
    "            self.__speed = initial_speed\n",
    "\n",
    "    def speed_up(self):\n",
    "        self.__speed += 5\n",
    "\n",
    "    def slow_down(self):\n",
    "        if self.__speed < 5:\n",
    "            self.__speed = 0\n",
    "        else:\n",
    "            self.__speed -= 5\n",
    "\n",
    "    def show_speed(self):\n",
    "        print(f'Current speed: {self.__speed}')"
   ]
  },
  {
   "cell_type": "code",
   "execution_count": 13,
   "id": "7c8c9a10",
   "metadata": {},
   "outputs": [
    {
     "name": "stdout",
     "output_type": "stream",
     "text": [
      "Current speed: 0\n"
     ]
    }
   ],
   "source": [
    "my_lovely_car = Car('Honda', 'Red', -50)\n",
    "my_lovely_car.__speed = -10\n",
    "my_lovely_car.show_speed()"
   ]
  },
  {
   "cell_type": "code",
   "execution_count": 31,
   "id": "615841d8",
   "metadata": {},
   "outputs": [],
   "source": [
    "class Bank():\n",
    "    def __init__(self, name = 'N/A', initial_amount = 0.0):\n",
    "        self.name = name\n",
    "        if initial_amount < 0.0:\n",
    "            initial_amount = 0.0\n",
    "        else:\n",
    "            self.initial_amount = float(initial_amount)\n",
    "\n",
    "    def add(self, amount):\n",
    "        self.initial_amount += amount\n",
    "\n",
    "    def subtract(self, amount):\n",
    "        self.initial_amount -= amount\n",
    "    \n",
    "    def show_balance(self):\n",
    "        print(f'Your remaining budget in {self.name} is: PhP {self.initial_amount}')\n",
    "\n",
    "    def edit_balance(self, new_balance):\n",
    "        self.initial_amount = float(new_balance)\n",
    "        print(f'Your new remaining balance is: PhP {self.initial_amount}')\n"
   ]
  },
  {
   "cell_type": "code",
   "execution_count": 32,
   "id": "721db6f4",
   "metadata": {},
   "outputs": [
    {
     "name": "stdout",
     "output_type": "stream",
     "text": [
      "Your remaining budget in Maya is: PhP 1050.0\n"
     ]
    }
   ],
   "source": [
    "maya = Bank('Maya', 1000)\n",
    "maya.add(50)\n",
    "maya.show_balance()\n",
    "\n"
   ]
  },
  {
   "cell_type": "code",
   "execution_count": 33,
   "id": "e8d45ad7",
   "metadata": {},
   "outputs": [
    {
     "name": "stdout",
     "output_type": "stream",
     "text": [
      "Your remaining budget in Maya is: PhP 940.25\n"
     ]
    }
   ],
   "source": [
    "maya.subtract(109.75)\n",
    "maya.show_balance()"
   ]
  },
  {
   "cell_type": "code",
   "execution_count": 34,
   "id": "7be06ae9",
   "metadata": {},
   "outputs": [
    {
     "name": "stdout",
     "output_type": "stream",
     "text": [
      "Your remaining budget in GCash is: PhP 270.0\n"
     ]
    }
   ],
   "source": [
    "gcash = Bank('GCash', 500)\n",
    "gcash.subtract(230)\n",
    "gcash.show_balance()"
   ]
  },
  {
   "cell_type": "code",
   "execution_count": 35,
   "id": "a2109ac0",
   "metadata": {},
   "outputs": [
    {
     "name": "stdout",
     "output_type": "stream",
     "text": [
      "Your new remaining balance is: PhP 650.0\n"
     ]
    }
   ],
   "source": [
    "gcash.edit_balance(650)"
   ]
  },
  {
   "cell_type": "code",
   "execution_count": 39,
   "id": "c9bf0c26",
   "metadata": {},
   "outputs": [
    {
     "data": {
      "text/plain": [
       "(<__main__.Bank at 0x21514d4e270>, <__main__.Bank at 0x21514dca850>)"
      ]
     },
     "execution_count": 39,
     "metadata": {},
     "output_type": "execute_result"
    }
   ],
   "source": [
    "banks_list = (maya, gcash)\n",
    "banks_list"
   ]
  },
  {
   "cell_type": "code",
   "execution_count": 40,
   "id": "90ae4a92",
   "metadata": {},
   "outputs": [
    {
     "name": "stdout",
     "output_type": "stream",
     "text": [
      "<bound method Bank.show_balance of <__main__.Bank object at 0x0000021514D4E270>>\n"
     ]
    }
   ],
   "source": [
    "print(banks_list[0].show_balance)"
   ]
  },
  {
   "cell_type": "code",
   "execution_count": null,
   "id": "3c3771f8",
   "metadata": {},
   "outputs": [],
   "source": []
  }
 ],
 "metadata": {
  "kernelspec": {
   "display_name": "Python 3",
   "language": "python",
   "name": "python3"
  },
  "language_info": {
   "codemirror_mode": {
    "name": "ipython",
    "version": 3
   },
   "file_extension": ".py",
   "mimetype": "text/x-python",
   "name": "python",
   "nbconvert_exporter": "python",
   "pygments_lexer": "ipython3",
   "version": "3.13.7"
  }
 },
 "nbformat": 4,
 "nbformat_minor": 5
}
