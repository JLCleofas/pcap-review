{
 "cells": [
  {
   "cell_type": "code",
   "execution_count": 1,
   "id": "fdb3357a",
   "metadata": {},
   "outputs": [],
   "source": [
    "def get_inverse(x):\n",
    "    try:\n",
    "        return 1/x\n",
    "    except ZeroDivisionError:\n",
    "        return None\n",
    "    finally:\n",
    "        print('I am always printed!')"
   ]
  },
  {
   "cell_type": "code",
   "execution_count": 2,
   "id": "39341e62",
   "metadata": {},
   "outputs": [
    {
     "name": "stdout",
     "output_type": "stream",
     "text": [
      "I am always printed!\n",
      "0.2\n"
     ]
    }
   ],
   "source": [
    "print(get_inverse(5))"
   ]
  },
  {
   "cell_type": "code",
   "execution_count": 3,
   "id": "a0905591",
   "metadata": {},
   "outputs": [
    {
     "name": "stdout",
     "output_type": "stream",
     "text": [
      "I am always printed!\n",
      "None\n"
     ]
    }
   ],
   "source": [
    "print(get_inverse(0))"
   ]
  },
  {
   "cell_type": "code",
   "execution_count": null,
   "id": "3a14e6b6",
   "metadata": {},
   "outputs": [],
   "source": []
  }
 ],
 "metadata": {
  "kernelspec": {
   "display_name": "Python 3",
   "language": "python",
   "name": "python3"
  },
  "language_info": {
   "codemirror_mode": {
    "name": "ipython",
    "version": 3
   },
   "file_extension": ".py",
   "mimetype": "text/x-python",
   "name": "python",
   "nbconvert_exporter": "python",
   "pygments_lexer": "ipython3",
   "version": "3.13.7"
  }
 },
 "nbformat": 4,
 "nbformat_minor": 5
}
