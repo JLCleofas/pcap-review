{
 "cells": [
  {
   "cell_type": "code",
   "execution_count": 2,
   "id": "e38c1a5f",
   "metadata": {},
   "outputs": [],
   "source": [
    "class Dog():\n",
    "    def __init__(self, name, age):\n",
    "        self.name = name\n",
    "        self.age = age"
   ]
  },
  {
   "cell_type": "code",
   "execution_count": 3,
   "id": "bb51bc6f",
   "metadata": {},
   "outputs": [
    {
     "data": {
      "text/plain": [
       "{'name': 'Teddy', 'age': 2}"
      ]
     },
     "execution_count": 3,
     "metadata": {},
     "output_type": "execute_result"
    }
   ],
   "source": [
    "my_pet = Dog('Teddy', 2)\n",
    "# to see the properties of the object, use the __dict__ method\n",
    "my_pet.__dict__"
   ]
  },
  {
   "cell_type": "code",
   "execution_count": 9,
   "id": "6decead6",
   "metadata": {},
   "outputs": [
    {
     "data": {
      "text/plain": [
       "{'name': 'Teddy', 'age': 2, 'color': 'brown'}"
      ]
     },
     "execution_count": 9,
     "metadata": {},
     "output_type": "execute_result"
    }
   ],
   "source": [
    "my_pet.color = 'brown'\n",
    "my_pet.__dict__"
   ]
  },
  {
   "cell_type": "code",
   "execution_count": 10,
   "id": "71fc950c",
   "metadata": {},
   "outputs": [
    {
     "data": {
      "text/plain": [
       "{'age': 2, 'color': 'brown'}"
      ]
     },
     "execution_count": 10,
     "metadata": {},
     "output_type": "execute_result"
    }
   ],
   "source": [
    "del my_pet.name\n",
    "my_pet.__dict__"
   ]
  },
  {
   "cell_type": "code",
   "execution_count": 11,
   "id": "ac05249f",
   "metadata": {},
   "outputs": [],
   "source": [
    "class Dog():\n",
    "    def __init__(self, name, age):\n",
    "        # making the name property private\n",
    "        self.__name = name\n",
    "        self.age = age"
   ]
  },
  {
   "cell_type": "code",
   "execution_count": null,
   "id": "fa0f6922",
   "metadata": {},
   "outputs": [
    {
     "name": "stdout",
     "output_type": "stream",
     "text": [
      "{'_Dog__name': 'Teddy', 'age': 2}\n"
     ]
    },
    {
     "ename": "AttributeError",
     "evalue": "'Dog' object has no attribute '__name'",
     "output_type": "error",
     "traceback": [
      "\u001b[31m---------------------------------------------------------------------------\u001b[39m",
      "\u001b[31mAttributeError\u001b[39m                            Traceback (most recent call last)",
      "\u001b[36mCell\u001b[39m\u001b[36m \u001b[39m\u001b[32mIn[13]\u001b[39m\u001b[32m, line 3\u001b[39m\n\u001b[32m      1\u001b[39m my_pet = Dog(\u001b[33m'\u001b[39m\u001b[33mTeddy\u001b[39m\u001b[33m'\u001b[39m, \u001b[32m2\u001b[39m)\n\u001b[32m      2\u001b[39m \u001b[38;5;28mprint\u001b[39m(my_pet.\u001b[34m__dict__\u001b[39m)\n\u001b[32m----> \u001b[39m\u001b[32m3\u001b[39m \u001b[38;5;28mprint\u001b[39m(\u001b[43mmy_pet\u001b[49m\u001b[43m.\u001b[49m\u001b[43m__name\u001b[49m)\n",
      "\u001b[31mAttributeError\u001b[39m: 'Dog' object has no attribute '__name'"
     ]
    }
   ],
   "source": [
    "my_pet = Dog('Teddy', 2)\n",
    "print(my_pet.__dict__)\n",
    "# name mangling will happen when the property is private\n",
    "print(my_pet.__name)"
   ]
  },
  {
   "cell_type": "code",
   "execution_count": null,
   "id": "bd261c46",
   "metadata": {},
   "outputs": [
    {
     "name": "stdout",
     "output_type": "stream",
     "text": [
      "{'_Dog__name': 'Teddy', 'age': 2}\n",
      "Teddy\n"
     ]
    }
   ],
   "source": [
    "my_pet = Dog('Teddy', 2)\n",
    "print(my_pet.__dict__)\n",
    "# you can still access it if you really want by using the mangled name\n",
    "print(my_pet._Dog__name)"
   ]
  },
  {
   "cell_type": "code",
   "execution_count": 16,
   "id": "72b24b31",
   "metadata": {},
   "outputs": [
    {
     "data": {
      "text/plain": [
       "{'_Dog__name': 'Teddy', 'age': 2, '__breed': 'Bulldog'}"
      ]
     },
     "execution_count": 16,
     "metadata": {},
     "output_type": "execute_result"
    }
   ],
   "source": [
    "# name mangling won't happen if you use private properties outside the definition\n",
    "my_pet.__breed = 'Bulldog'\n",
    "my_pet.__dict__"
   ]
  },
  {
   "cell_type": "code",
   "execution_count": null,
   "id": "3bce2678",
   "metadata": {},
   "outputs": [],
   "source": []
  }
 ],
 "metadata": {
  "kernelspec": {
   "display_name": "Python 3",
   "language": "python",
   "name": "python3"
  },
  "language_info": {
   "codemirror_mode": {
    "name": "ipython",
    "version": 3
   },
   "file_extension": ".py",
   "mimetype": "text/x-python",
   "name": "python",
   "nbconvert_exporter": "python",
   "pygments_lexer": "ipython3",
   "version": "3.13.7"
  }
 },
 "nbformat": 4,
 "nbformat_minor": 5
}
