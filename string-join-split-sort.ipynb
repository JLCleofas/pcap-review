{
 "cells": [
  {
   "cell_type": "code",
   "execution_count": 1,
   "id": "ffa250c4",
   "metadata": {},
   "outputs": [
    {
     "data": {
      "text/plain": [
       "'This is a spectacular place to be'"
      ]
     },
     "execution_count": 1,
     "metadata": {},
     "output_type": "execute_result"
    }
   ],
   "source": [
    "' '.join(['This is', 'a spectacular', 'place to be'])"
   ]
  },
  {
   "cell_type": "code",
   "execution_count": 7,
   "id": "83954ca2",
   "metadata": {},
   "outputs": [
    {
     "data": {
      "text/plain": [
       "['How', 'many', 'strings', 'will', 'you', 'see?']"
      ]
     },
     "execution_count": 7,
     "metadata": {},
     "output_type": "execute_result"
    }
   ],
   "source": [
    "'How many\\tstrings\\nwill you see?'.split()"
   ]
  },
  {
   "cell_type": "code",
   "execution_count": null,
   "id": "6b77ee6e",
   "metadata": {},
   "outputs": [
    {
     "name": "stdout",
     "output_type": "stream",
     "text": [
      "['Adam', 'Barbara', 'Donna', 'Kate']\n"
     ]
    }
   ],
   "source": [
    "# sorted() creates a sorted copy of the list\n",
    "names = ['Adam', 'Kate', 'Barbara', 'Donna']\n",
    "names_sorted = sorted(['Adam', 'Kate', 'Barbara', 'Donna'])\n",
    "print(names_sorted)"
   ]
  },
  {
   "cell_type": "code",
   "execution_count": 5,
   "id": "467b3de4",
   "metadata": {},
   "outputs": [
    {
     "name": "stdout",
     "output_type": "stream",
     "text": [
      "['Adam', 'Barbara', 'Donna', 'Kate']\n"
     ]
    }
   ],
   "source": [
    "# sort() sorts the original list\n",
    "names = ['Adam', 'Kate', 'Barbara', 'Donna']\n",
    "names.sort()\n",
    "print(names)"
   ]
  },
  {
   "cell_type": "code",
   "execution_count": 2,
   "id": "76301327",
   "metadata": {},
   "outputs": [
    {
     "name": "stdout",
     "output_type": "stream",
     "text": [
      "['Once', 'upon', 'a', 'time', 'there', 'was', 'a', 'beginner', 'programmer', 'named', 'Alice', 'who', 'was', 'eager', 'to', 'learn', 'Python', 'She', 'tried', 'to', 'learn', 'from', 'books', 'but', 'found', 'it', 'difficult', 'to', 'grasp', 'the', 'concepts', 'One', 'day', 'she', 'stumbled', 'upon', 'an', 'online', 'course', 'Alice', 'was', 'thrilled', 'The', 'course', 'was', 'taught', 'by', 'a', 'well-known', 'programmer', 'who', 'made', 'the', 'lessons', 'interesting', 'and', 'easy', 'to', 'understand', 'The', 'course', 'covered', 'everything', 'a', 'beginner', 'programmer', 'needed', 'and', 'Alice', 'was', 'finally', 'able', 'to', 'understand', 'how', 'to', 'code', 'in', 'Python']\n",
      "Once 4\n",
      "Once\n",
      "upon 4\n",
      "a 1\n",
      "time 4\n",
      "there 5\n",
      "there\n",
      "was 3\n",
      "a 1\n",
      "beginner 8\n",
      "beginner\n",
      "programmer 10\n",
      "programmer\n",
      "named 5\n",
      "Alice 5\n",
      "who 3\n",
      "was 3\n",
      "eager 5\n",
      "to 2\n",
      "learn 5\n",
      "Python 6\n",
      "She 3\n",
      "tried 5\n",
      "to 2\n",
      "learn 5\n",
      "from 4\n",
      "books 5\n",
      "but 3\n",
      "found 5\n",
      "it 2\n",
      "difficult 9\n",
      "to 2\n",
      "grasp 5\n",
      "the 3\n",
      "concepts 8\n",
      "One 3\n",
      "day 3\n",
      "she 3\n",
      "stumbled 8\n",
      "upon 4\n",
      "an 2\n",
      "online 6\n",
      "course 6\n",
      "Alice 5\n",
      "was 3\n",
      "thrilled 8\n",
      "The 3\n",
      "course 6\n",
      "was 3\n",
      "taught 6\n",
      "by 2\n",
      "a 1\n",
      "well-known 10\n",
      "programmer 10\n",
      "who 3\n",
      "made 4\n",
      "the 3\n",
      "lessons 7\n",
      "interesting 11\n",
      "interesting\n",
      "and 3\n",
      "easy 4\n",
      "to 2\n",
      "understand 10\n",
      "The 3\n",
      "course 6\n",
      "covered 7\n",
      "everything 10\n",
      "a 1\n",
      "beginner 8\n",
      "programmer 10\n",
      "needed 6\n",
      "and 3\n",
      "Alice 5\n",
      "was 3\n",
      "finally 7\n",
      "able 4\n",
      "to 2\n",
      "understand 10\n",
      "how 3\n",
      "to 2\n",
      "code 4\n",
      "in 2\n",
      "Python 6\n",
      "interesting\n"
     ]
    }
   ],
   "source": [
    "def get_longest_word(string):\n",
    "    string_list = string.replace('.', ' ').replace(',', ' ').split()\n",
    "    print(string_list)\n",
    "    longest_word = ''\n",
    "    for words in string_list:\n",
    "        print(f'{words} {len(words)}')\n",
    "        if len(longest_word) < len(words):\n",
    "            longest_word = words\n",
    "            print(longest_word)\n",
    "\n",
    "    return longest_word\n",
    "\n",
    "\n",
    "\n",
    "sample_story = '''Once upon a time, there was a beginner programmer named Alice who was eager to learn Python. She tried to learn from books, but found it difficult to grasp the concepts. One day, she stumbled upon an online course.\n",
    "\n",
    "Alice was thrilled. The course was taught by a well-known programmer who made the lessons interesting and easy to understand. The course covered everything a beginner programmer needed, and Alice was finally able to understand how to code in Python.'''\n",
    "\n",
    "print(get_longest_word(sample_story))"
   ]
  },
  {
   "cell_type": "code",
   "execution_count": null,
   "id": "8517015f",
   "metadata": {},
   "outputs": [],
   "source": []
  }
 ],
 "metadata": {
  "kernelspec": {
   "display_name": "Python 3",
   "language": "python",
   "name": "python3"
  },
  "language_info": {
   "codemirror_mode": {
    "name": "ipython",
    "version": 3
   },
   "file_extension": ".py",
   "mimetype": "text/x-python",
   "name": "python",
   "nbconvert_exporter": "python",
   "pygments_lexer": "ipython3",
   "version": "3.13.7"
  }
 },
 "nbformat": 4,
 "nbformat_minor": 5
}
