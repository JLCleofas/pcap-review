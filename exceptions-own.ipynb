{
 "cells": [
  {
   "cell_type": "code",
   "execution_count": 1,
   "id": "e49c8adb",
   "metadata": {},
   "outputs": [],
   "source": [
    "class AnimalValueError(ValueError):\n",
    "    pass\n",
    "\n",
    "def produce_animal_sound(animal_type):\n",
    "    if animal_type == 'DOG':\n",
    "        print('Woof, woof!')\n",
    "    elif animal_type == 'Cat':\n",
    "        print('Meow!')\n",
    "    else:\n",
    "        raise AnimalValueError('Incorrect animal type!')"
   ]
  },
  {
   "cell_type": "code",
   "execution_count": 2,
   "id": "b3b938a3",
   "metadata": {},
   "outputs": [
    {
     "name": "stdout",
     "output_type": "stream",
     "text": [
      "Woof, woof!\n"
     ]
    }
   ],
   "source": [
    "produce_animal_sound('DOG')"
   ]
  },
  {
   "cell_type": "code",
   "execution_count": 3,
   "id": "49cadff5",
   "metadata": {},
   "outputs": [
    {
     "ename": "AnimalValueError",
     "evalue": "Incorrect animal type!",
     "output_type": "error",
     "traceback": [
      "\u001b[31m---------------------------------------------------------------------------\u001b[39m",
      "\u001b[31mAnimalValueError\u001b[39m                          Traceback (most recent call last)",
      "\u001b[36mCell\u001b[39m\u001b[36m \u001b[39m\u001b[32mIn[3]\u001b[39m\u001b[32m, line 1\u001b[39m\n\u001b[32m----> \u001b[39m\u001b[32m1\u001b[39m \u001b[43mproduce_animal_sound\u001b[49m\u001b[43m(\u001b[49m\u001b[33;43m'\u001b[39;49m\u001b[33;43mPIG\u001b[39;49m\u001b[33;43m'\u001b[39;49m\u001b[43m)\u001b[49m\n",
      "\u001b[36mCell\u001b[39m\u001b[36m \u001b[39m\u001b[32mIn[1]\u001b[39m\u001b[32m, line 10\u001b[39m, in \u001b[36mproduce_animal_sound\u001b[39m\u001b[34m(animal_type)\u001b[39m\n\u001b[32m      8\u001b[39m     \u001b[38;5;28mprint\u001b[39m(\u001b[33m'\u001b[39m\u001b[33mMeow!\u001b[39m\u001b[33m'\u001b[39m)\n\u001b[32m      9\u001b[39m \u001b[38;5;28;01melse\u001b[39;00m:\n\u001b[32m---> \u001b[39m\u001b[32m10\u001b[39m     \u001b[38;5;28;01mraise\u001b[39;00m AnimalValueError(\u001b[33m'\u001b[39m\u001b[33mIncorrect animal type!\u001b[39m\u001b[33m'\u001b[39m)\n",
      "\u001b[31mAnimalValueError\u001b[39m: Incorrect animal type!"
     ]
    }
   ],
   "source": [
    "produce_animal_sound('PIG')"
   ]
  },
  {
   "cell_type": "code",
   "execution_count": 4,
   "id": "7efd1b82",
   "metadata": {},
   "outputs": [
    {
     "name": "stdout",
     "output_type": "stream",
     "text": [
      "Hello, Adam\n",
      "UserActionException occurred. Error message: empty name!, userId: DT324\n"
     ]
    }
   ],
   "source": [
    "class UserActionException(Exception):\n",
    "    def __init__(self, message='', user_id=''):\n",
    "        super().__init__(self)\n",
    "        self.user_id = user_id\n",
    "        self.message = message\n",
    "    def __str__(self):\n",
    "        return f'{type(self).__name__} occurred. Error message: {self.message}, userId: {self.user_id}'\n",
    "    \n",
    "def say_hello(name, user_id):\n",
    "    if name == '':\n",
    "        raise UserActionException('empty name!', user_id)\n",
    "    print(f'Hello, {name}')\n",
    "\n",
    "try:\n",
    "    say_hello('Adam', 'DT324')\n",
    "    say_hello('', 'DT324')\n",
    "except Exception as e:\n",
    "    print(e)"
   ]
  },
  {
   "cell_type": "code",
   "execution_count": 5,
   "id": "7a807414",
   "metadata": {},
   "outputs": [],
   "source": [
    "class EmptyNameUserActionException(UserActionException):\n",
    "    def __init__(self, user_id=''):\n",
    "        super().__init__('An empty name was provided', user_id)"
   ]
  },
  {
   "cell_type": "code",
   "execution_count": 6,
   "id": "683e3808",
   "metadata": {},
   "outputs": [],
   "source": [
    "def say_hello(name, user_id):\n",
    "    if name == '':\n",
    "        raise EmptyNameUserActionException(user_id)\n",
    "    print(f'Hello, {name}')"
   ]
  },
  {
   "cell_type": "code",
   "execution_count": 7,
   "id": "e7280a5f",
   "metadata": {},
   "outputs": [
    {
     "name": "stdout",
     "output_type": "stream",
     "text": [
      "Hello, Adam\n",
      "EmptyNameUserActionException occurred. Error message: An empty name was provided, userId: DT324\n"
     ]
    }
   ],
   "source": [
    "try:\n",
    "    say_hello('Adam', 'DT324')\n",
    "    say_hello('', 'DT324')\n",
    "except Exception as e:\n",
    "    print(e)"
   ]
  },
  {
   "cell_type": "code",
   "execution_count": null,
   "id": "b9acb43c",
   "metadata": {},
   "outputs": [],
   "source": []
  }
 ],
 "metadata": {
  "kernelspec": {
   "display_name": "Python 3",
   "language": "python",
   "name": "python3"
  },
  "language_info": {
   "codemirror_mode": {
    "name": "ipython",
    "version": 3
   },
   "file_extension": ".py",
   "mimetype": "text/x-python",
   "name": "python",
   "nbconvert_exporter": "python",
   "pygments_lexer": "ipython3",
   "version": "3.13.7"
  }
 },
 "nbformat": 4,
 "nbformat_minor": 5
}
